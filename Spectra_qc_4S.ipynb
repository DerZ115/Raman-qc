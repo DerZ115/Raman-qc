{
 "cells": [
  {
   "cell_type": "code",
   "execution_count": 1,
   "id": "substantial-gothic",
   "metadata": {},
   "outputs": [],
   "source": [
    "import os\n",
    "import math\n",
    "import numpy as np\n",
    "import scipy.signal as sig\n",
    "import matplotlib.pyplot as plt\n",
    "import matplotlib.colors as colors\n",
    "import matplotlib.ticker as ticker\n",
    "from matplotlib import cm\n",
    "from scipy import stats\n",
    "from scipy import optimize\n",
    "from scipy import integrate\n",
    "import scipy.linalg as la\n",
    "import numpy.polynomial.polynomial as poly\n",
    "from bisect import bisect_left\n",
    "import pprint"
   ]
  },
  {
   "cell_type": "code",
   "execution_count": 2,
   "id": "amino-abortion",
   "metadata": {},
   "outputs": [],
   "source": [
    "def import_file(path, limit_low=None, limit_high=None):\n",
    "\n",
    "    spectrum = np.genfromtxt(path, delimiter=\",\")\n",
    "    spectrum = np.transpose(spectrum)\n",
    "    wavenumbers = spectrum[0]\n",
    "    intensities = spectrum[1]\n",
    "\n",
    "    if limit_low is not None:\n",
    "        limit_low_index = list(wavenumbers).index(limit_low)\n",
    "    else:\n",
    "        limit_low_index = 0\n",
    "        limit_low = wavenumbers[0]\n",
    "\n",
    "    if limit_high is not None:\n",
    "        limit_high_index = list(wavenumbers).index(limit_high)\n",
    "    else:\n",
    "        limit_high_index = len(wavenumbers)\n",
    "        limit_high = wavenumbers[-1]\n",
    "\n",
    "    wavenumbers = wavenumbers[limit_low_index:limit_high_index]\n",
    "    intensities = intensities[limit_low_index:limit_high_index]\n",
    "    return wavenumbers, intensities\n",
    "\n",
    "def import_directory(path, limit_low=None, limit_high=None):\n",
    "    if not path.endswith(\"/\"):\n",
    "        path = path + \"/\"\n",
    "    \n",
    "    files = os.listdir(path)\n",
    "    files = [file for file in files if file.lower().endswith(\".txt\")]\n",
    "    \n",
    "    files = sorted(files, key=lambda s: int(s[s.find(\"(\")+1:s.find(\")\")]))\n",
    "    \n",
    "    \n",
    "    wavenumbers = []\n",
    "    intensities = []\n",
    "        \n",
    "    for file in files:\n",
    "        wns, ints = import_file(path + file, limit_low, limit_high)\n",
    "        wavenumbers.append(wns)\n",
    "        intensities.append(ints)\n",
    "    return np.array(wavenumbers), np.array(intensities), files"
   ]
  },
  {
   "cell_type": "code",
   "execution_count": 3,
   "id": "initial-staff",
   "metadata": {},
   "outputs": [],
   "source": [
    "wavenumbers, intensities, files = import_directory(\"spectra2\", 300, 1600)"
   ]
  },
  {
   "cell_type": "code",
   "execution_count": 4,
   "id": "finished-japanese",
   "metadata": {},
   "outputs": [],
   "source": [
    "##################################\n",
    "# Parameters for 4S Peak Filling #\n",
    "##################################\n",
    "\n",
    "penalty = 0         # Smoothing strength, starting value: 4\n",
    "half_width = 10      # Half width of suppression window, starting value: half width at half height of widest peak\n",
    "iterations = 6     # Number of iterations of the suppression cycle, starting value: 10\n",
    "buckets = 400       # Number of intervals the data is divided into, can also be an array of indices, starting value: 1/10 of the number of data points"
   ]
  },
  {
   "cell_type": "code",
   "execution_count": 5,
   "id": "entitled-gambling",
   "metadata": {},
   "outputs": [],
   "source": [
    "dims = np.shape(intensities)\n",
    "baseline = np.zeros(dims)\n",
    "corrected = np.zeros(dims)"
   ]
  },
  {
   "cell_type": "code",
   "execution_count": null,
   "id": "accepting-seeking",
   "metadata": {},
   "outputs": [],
   "source": []
  },
  {
   "cell_type": "code",
   "execution_count": 6,
   "id": "small-warrior",
   "metadata": {},
   "outputs": [
    {
     "data": {
      "text/plain": [
       "array([[ 0.,  0.,  1., ...,  1.,  1.,  1.],\n",
       "       [ 0., -2., -4., ..., -4., -4., -2.],\n",
       "       [ 2.,  6.,  7., ...,  7.,  6.,  2.],\n",
       "       [-2., -4., -4., ..., -4., -2.,  0.],\n",
       "       [ 1.,  1.,  1., ...,  1.,  0.,  0.]])"
      ]
     },
     "execution_count": 6,
     "metadata": {},
     "output_type": "execute_result"
    }
   ],
   "source": [
    "#############\n",
    "# Smoothing #\n",
    "#############\n",
    "\n",
    "diag = np.zeros((5,5))\n",
    "np.fill_diagonal(diag, 1)\n",
    "middle = np.matmul(np.diff(diag, n=2, axis=0).T, np.diff(diag, n=2, axis=0))\n",
    "zeros = np.zeros((2,5))\n",
    "\n",
    "to_band = np.vstack((zeros, middle, zeros))\n",
    "the_band = np.diag(to_band)\n",
    "\n",
    "for i in range(1, 5):\n",
    "    the_band = np.vstack((the_band, np.diag(to_band, -i)))\n",
    "    \n",
    "indices = [0,1] + [2] * (dims[1]-4) + [3,4]\n",
    "dd = the_band[:, indices] * (10**penalty)\n",
    "dd[2,] = dd[2,] + 1\n",
    "\n",
    "ints_original = intensities[:,:]\n",
    "intensities = la.solve_banded((2,2), dd, intensities.T).T\n",
    "dd"
   ]
  },
  {
   "cell_type": "code",
   "execution_count": 7,
   "id": "champion-consciousness",
   "metadata": {},
   "outputs": [
    {
     "data": {
      "text/plain": [
       "(300.0, 1599.5)"
      ]
     },
     "execution_count": 7,
     "metadata": {},
     "output_type": "execute_result"
    },
    {
     "data": {
      "image/png": "[encoded data removed]",
      "text/plain": [
       "<Figure size 432x288 with 1 Axes>"
      ]
     },
     "metadata": {
      "needs_background": "light"
     },
     "output_type": "display_data"
    }
   ],
   "source": [
    "fig, ax = plt.subplots()\n",
    "ax.plot(wavenumbers[0], ints_original[0], linewidth=1)\n",
    "ax.plot(wavenumbers[0], intensities[0], linewidth=1)\n",
    "ax.set_xlim((wavenumbers[0,0], wavenumbers[0,-1]))"
   ]
  },
  {
   "cell_type": "code",
   "execution_count": 8,
   "id": "personal-salon",
   "metadata": {},
   "outputs": [
    {
     "data": {
      "text/plain": [
       "array([10,  7,  4,  3,  2,  1])"
      ]
     },
     "execution_count": 8,
     "metadata": {},
     "output_type": "execute_result"
    }
   ],
   "source": [
    "if iterations != 1:\n",
    "    d1 = math.log10(half_width)\n",
    "    d2 = 0\n",
    "\n",
    "    tmp = np.array(range(iterations-1)) * (d2 - d1) / (iterations - 1) + d1\n",
    "    tmp = np.append(tmp, d2)\n",
    "    w = np.ceil(10**tmp).astype(int)\n",
    "else:\n",
    "    w = np.array((half_width))\n",
    "\n",
    "w"
   ]
  },
  {
   "cell_type": "code",
   "execution_count": 9,
   "id": "julian-journalist",
   "metadata": {},
   "outputs": [],
   "source": [
    "if isinstance(buckets, int):\n",
    "    lims = np.linspace(0, dims[1]-1, buckets+1, dtype=int)\n",
    "else:\n",
    "    lims = buckets\n",
    "    buckets = len(lims)-1\n",
    "    \n",
    "mids = np.rint(np.convolve(lims, np.ones(2), 'valid') / 2).astype(int)\n",
    "mids[0] = 0\n",
    "mids[-1] = dims[1]-1"
   ]
  },
  {
   "cell_type": "code",
   "execution_count": 10,
   "id": "inappropriate-poster",
   "metadata": {},
   "outputs": [
    {
     "name": "stdout",
     "output_type": "stream",
     "text": [
      "Using matplotlib backend: Qt5Agg\n"
     ]
    }
   ],
   "source": [
    "%matplotlib\n",
    "for s in range(dims[0]):\n",
    "    \n",
    "    ###############\n",
    "    # Subsampling #\n",
    "    ###############\n",
    "    \n",
    "    xx = np.zeros(buckets)\n",
    "    for i in range(buckets):\n",
    "        xx[i] = np.min(intensities[s, lims[i]:lims[i+1]])\n",
    "        \n",
    "    ###############\n",
    "    # Suppression #\n",
    "    ###############\n",
    "    \n",
    "    if s == 0:\n",
    "        fig, ax = plt.subplots()\n",
    "        ax.plot(wavenumbers[0], ints_original[0])\n",
    "        ax.set_xlim((wavenumbers[0,0], wavenumbers[0,-1]))\n",
    "        ax.invert_xaxis()\n",
    "        \n",
    "    \n",
    "    for i in range(iterations):\n",
    "        w0 = w[i]\n",
    "        \n",
    "        for j in range(1, buckets):\n",
    "            v = min(j, w0, buckets-j)\n",
    "            a = np.mean(xx[j-v:j+v+1])\n",
    "            xx[j] = min(a, xx[j])\n",
    "            \n",
    "        if s == 0:\n",
    "            ax.plot(wavenumbers[0, mids], xx, linewidth=0.5)\n",
    "            \n",
    "        for j in range(buckets-1, 0, -1):\n",
    "            v = min(j, w0, buckets-j)\n",
    "            a = np.mean(xx[j-v:j+v+1])\n",
    "            xx[j] = min(a, xx[j])\n",
    "        \n",
    "        if s == 0:\n",
    "            ax.plot(wavenumbers[0, mids], xx, linewidth=0.5)\n",
    "            \n",
    "    ##############\n",
    "    # Stretching #\n",
    "    ##############\n",
    "        \n",
    "    xxx = np.interp(range(dims[1]), mids, xx)\n",
    "    baseline[s] = xxx\n",
    "    corrected[s] = ints_original[s] - baseline[s]"
   ]
  },
  {
   "cell_type": "code",
   "execution_count": 11,
   "id": "compliant-printing",
   "metadata": {},
   "outputs": [],
   "source": [
    "corrected_sg2 = sig.savgol_filter(x=corrected,\n",
    "                                  window_length=33,\n",
    "                                  polyorder=3,\n",
    "                                  deriv=2)\n",
    "\n",
    "peaks = []\n",
    "peaks_height = []\n",
    "for i, row in enumerate(corrected_sg2):\n",
    "    threshold = 0.05 + np.max(corrected[i])/30000\n",
    "#     print(i, threshold)\n",
    "    peaks_tmp = sig.argrelmin(row)[0]\n",
    "    peaks_tmp = [peak for peak in peaks_tmp if row[peak] < -threshold]\n",
    "    \n",
    "    peak_condensing = []\n",
    "    peaks_tmp2 = []\n",
    "    for j in range(len(row)):\n",
    "        if j in peaks_tmp:\n",
    "            peak_condensing.append(j)\n",
    "        if row[j] > 0 and len(peak_condensing) > 0:\n",
    "            peaks_tmp2.append(int(np.mean(peak_condensing)))\n",
    "            peak_condensing = []\n",
    "    if len(peak_condensing) > 0:\n",
    "        peaks_tmp2.append(int(np.mean(peak_condensing)))\n",
    "    \n",
    "    heights = [corrected[i, k] for k in peaks_tmp2]\n",
    "    \n",
    "    peaks.append(peaks_tmp2)\n",
    "    peaks_height.append(heights)\n",
    "    "
   ]
  },
  {
   "cell_type": "code",
   "execution_count": 12,
   "id": "alleged-lecture",
   "metadata": {},
   "outputs": [],
   "source": [
    "n_peaks = [len(row) for row in peaks]\n",
    "total_areas = integrate.simpson(corrected, wavenumbers)\n",
    "avg_area = [area/n for n, area in zip(n_peaks, total_areas)]\n",
    "median_height = [np.median(row) for row in peaks_height]\n",
    "avg_height = [np.mean(row) for row in peaks_height]"
   ]
  },
  {
   "cell_type": "code",
   "execution_count": 13,
   "id": "unable-boring",
   "metadata": {},
   "outputs": [
    {
     "name": "stdout",
     "output_type": "stream",
     "text": [
      "index\tn_peaks\ttotal_area\tavg_area\tmedian_height\tavg_height\n",
      "0\t35\t1116363\t\t31896\t\t1032\t\t1384\n",
      "1\t41\t633478\t\t15450\t\t412\t\t729\n",
      "2\t35\t891841\t\t25481\t\t788\t\t1065\n",
      "3\t34\t289791\t\t8523\t\t239\t\t395\n",
      "4\t28\t288543\t\t10305\t\t256\t\t458\n",
      "5\t34\t299642\t\t8813\t\t215\t\t413\n",
      "6\t2\t55087\t\t27543\t\t1333\t\t1333\n",
      "7\t4\t57869\t\t14467\t\t89\t\t693\n",
      "8\t13\t81015\t\t6231\t\t68\t\t287\n",
      "9\t28\t157114\t\t5611\t\t144\t\t269\n",
      "10\t35\t221041\t\t6315\t\t172\t\t287\n",
      "11\t3\t53304\t\t17768\t\t66\t\t895\n",
      "12\t34\t279075\t\t8208\t\t196\t\t410\n",
      "13\t32\t1873671\t\t58552\t\t1480\t\t2398\n",
      "14\t39\t1775691\t\t45530\t\t1007\t\t1827\n",
      "15\t35\t1763371\t\t50382\t\t1226\t\t2077\n",
      "16\t37\t2115816\t\t57184\t\t1201\t\t2321\n",
      "17\t32\t330672\t\t10333\t\t291\t\t477\n",
      "18\t34\t199791\t\t5876\t\t175\t\t279\n",
      "19\t35\t643818\t\t18394\t\t592\t\t791\n",
      "20\t38\t547243\t\t14401\t\t381\t\t653\n",
      "21\t27\t159108\t\t5892\t\t125\t\t290\n",
      "22\t42\t405400\t\t9652\t\t261\t\t466\n",
      "23\t39\t1272405\t\t32625\t\t748\t\t1408\n",
      "24\t33\t884102\t\t26790\t\t706\t\t1159\n",
      "25\t34\t424373\t\t12481\t\t355\t\t597\n",
      "26\t33\t4413513\t\t133742\t\t2988\t\t5305\n",
      "27\t32\t5886316\t\t183947\t\t3030\t\t6812\n",
      "28\t35\t4164257\t\t118978\t\t2628\t\t4585\n",
      "29\t35\t5763250\t\t164664\t\t4938\t\t7063\n",
      "30\t38\t4835430\t\t127248\t\t3822\t\t5898\n",
      "31\t34\t3602434\t\t105953\t\t2438\t\t4339\n",
      "32\t31\t5118992\t\t165128\t\t3118\t\t6138\n",
      "33\t38\t4170156\t\t109740\t\t2835\t\t4412\n",
      "34\t32\t4727049\t\t147720\t\t3260\t\t5866\n",
      "35\t34\t4855550\t\t142810\t\t3154\t\t5645\n",
      "36\t32\t4367167\t\t136473\t\t2632\t\t5231\n",
      "37\t37\t461962\t\t12485\t\t489\t\t567\n",
      "38\t33\t309300\t\t9372\t\t208\t\t431\n",
      "39\t42\t564078\t\t13430\t\t361\t\t624\n",
      "40\t40\t1083070\t\t27076\t\t811\t\t1248\n",
      "41\t36\t590450\t\t16401\t\t394\t\t720\n",
      "42\t36\t485950\t\t13498\t\t357\t\t587\n",
      "43\t38\t734712\t\t19334\t\t493\t\t856\n",
      "44\t39\t1386280\t\t35545\t\t839\t\t1488\n",
      "45\t41\t1593915\t\t38875\t\t1226\t\t1678\n",
      "46\t31\t208303\t\t6719\t\t148\t\t329\n",
      "47\t34\t960977\t\t28264\t\t829\t\t1141\n",
      "48\t35\t629247\t\t17978\t\t437\t\t737\n",
      "49\t40\t606574\t\t15164\t\t395\t\t707\n",
      "50\t36\t795874\t\t22107\t\t666\t\t933\n",
      "51\t35\t777037\t\t22201\t\t582\t\t950\n",
      "52\t33\t992786\t\t30084\t\t645\t\t1261\n",
      "53\t33\t779211\t\t23612\t\t596\t\t1049\n",
      "54\t39\t826772\t\t21199\t\t430\t\t919\n",
      "55\t39\t1631923\t\t41844\t\t847\t\t1828\n",
      "56\t33\t2824226\t\t85582\t\t1832\t\t3175\n",
      "57\t39\t1832126\t\t46977\t\t969\t\t1979\n",
      "58\t33\t1550612\t\t46988\t\t1175\t\t1921\n",
      "59\t39\t792088\t\t20309\t\t522\t\t926\n"
     ]
    }
   ],
   "source": [
    "print(\"index\\tn_peaks\\ttotal_area\\tavg_area\\tmedian_height\\tavg_height\")\n",
    "for i in range(len(corrected)):\n",
    "    print(f\"{i}\\t{n_peaks[i]}\\t{int(total_areas[i])}\\t\\t{int(avg_area[i])}\\t\\t{int(median_height[i])}\\t\\t{int(avg_height[i])}\")"
   ]
  },
  {
   "cell_type": "code",
   "execution_count": 14,
   "id": "mobile-freeze",
   "metadata": {},
   "outputs": [],
   "source": [
    "# %matplotlib\n",
    "\n",
    "# for i in range(len(corrected)):\n",
    "\n",
    "#     fig, ax = plt.subplots(2)\n",
    "\n",
    "#     ax[0].plot(wavenumbers[i,], corrected[i,], linewidth=1)\n",
    "#     ax[0].set_xlim(wavenumbers[0,0], wavenumbers[0,-1])\n",
    "#     ax[0].invert_xaxis()\n",
    "#     ax[0].hlines(0, wavenumbers[0,0], wavenumbers[0,-1], color=\"black\", linewidth=0.5)\n",
    "#     ax[0].vlines(wavenumbers[i,peaks[i]], 0, np.max(corrected[i])*1.1, color=\"red\", linewidth=0.5)\n",
    "#     ax[0].grid()\n",
    "\n",
    "\n",
    "#     ax[1].plot(wavenumbers[i,], corrected_sg2[i,], linewidth=1)\n",
    "#     ax[1].set_xlim(wavenumbers[0,0], wavenumbers[0,-1])\n",
    "#     ax[1].invert_xaxis()\n",
    "#     ax[1].hlines(0, wavenumbers[0,0], wavenumbers[0,-1], color=\"black\", linewidth=0.5)\n",
    "#     ax[1].grid()"
   ]
  },
  {
   "cell_type": "code",
   "execution_count": 15,
   "id": "mounted-revision",
   "metadata": {},
   "outputs": [
    {
     "name": "stdout",
     "output_type": "stream",
     "text": [
      "Using matplotlib backend: Qt5Agg\n"
     ]
    },
    {
     "name": "stderr",
     "output_type": "stream",
     "text": [
      "<ipython-input-15-f0d41b101e83>:5: RuntimeWarning: More than 20 figures have been opened. Figures created through the pyplot interface (`matplotlib.pyplot.figure`) are retained until explicitly closed and may consume too much memory. (To control this warning, see the rcParam `figure.max_open_warning`).\n",
      "  fig, ax = plt.subplots(2)\n"
     ]
    }
   ],
   "source": [
    "%matplotlib\n",
    "\n",
    "for i in range(len(corrected)):\n",
    "\n",
    "    fig, ax = plt.subplots(2)\n",
    "    ax[0].plot(wavenumbers[i,], ints_original[i,], linewidth=1)\n",
    "    ax[0].plot(wavenumbers[i,], baseline[i,], linewidth=1)\n",
    "    ax[0].set_xlim((wavenumbers[0,0], wavenumbers[0,-1]))\n",
    "    ax[0].invert_xaxis()\n",
    "    ax[0].grid()\n",
    "\n",
    "\n",
    "    ax[1].plot(wavenumbers[i,], corrected[i,], linewidth=1)\n",
    "    ax[1].set_xlim(wavenumbers[0,0], wavenumbers[0,-1])\n",
    "    ax[1].hlines(0, wavenumbers[0,0], wavenumbers[0,-1], color=\"black\", linewidth=0.5)\n",
    "    ax[1].vlines(wavenumbers[i,peaks[i]], 0, np.max(corrected[i])*1.1, color=\"red\", linewidth=0.5)\n",
    "    ax[1].invert_xaxis()\n",
    "    ax[1].grid()\n",
    "    \n",
    "    fig.suptitle(files[i])"
   ]
  },
  {
   "cell_type": "code",
   "execution_count": 17,
   "id": "invalid-peeing",
   "metadata": {},
   "outputs": [
    {
     "name": "stdout",
     "output_type": "stream",
     "text": [
      "Using matplotlib backend: Qt5Agg\n"
     ]
    },
    {
     "data": {
      "text/plain": [
       "[<matplotlib.lines.Line2D at 0x1e407766460>]"
      ]
     },
     "execution_count": 17,
     "metadata": {},
     "output_type": "execute_result"
    }
   ],
   "source": [
    "%matplotlib\n",
    "\n",
    "fig, ax = plt.subplots()\n",
    "ax.plot(avg_area, avg_height, \"bo\")"
   ]
  },
  {
   "cell_type": "code",
   "execution_count": 18,
   "id": "framed-heather",
   "metadata": {},
   "outputs": [],
   "source": [
    "files_by_total_area = [file for area, file in sorted(zip(total_areas, files))]\n",
    "files_by_avg_area = [file for area, file in sorted(zip(avg_area, files))]\n",
    "files_by_median_height = [file for height, file in sorted(zip(median_height, files))]\n",
    "files_by_avg_height = [file for height, file in sorted(zip(avg_height, files))]\n",
    "files_by_n_peaks = [file for n, file in sorted(zip(n_peaks, files))]\n",
    "\n",
    "total_area_x_n_peaks = [n*area for n, area in zip(n_peaks, total_areas)]\n",
    "files_by_area_x_peaks = [file for score, file in sorted(zip(total_area_x_n_peaks, files))]\n",
    "\n",
    "avg_area_exp_peaks = [area**n for n, area in zip(n_peaks, avg_area)]\n",
    "files_by_area_exp_peaks = [file for score, file in sorted(zip(avg_area_exp_peaks, files))]\n",
    "\n",
    "avg_height_exp_peaks = [height**n for n, height in zip(n_peaks, avg_height)]\n",
    "files_by_height_exp_peaks = [file for score, file in sorted(zip(avg_height_exp_peaks, files))]\n",
    "\n",
    "median_height_exp_peaks = [height**n for n, height in zip(n_peaks, median_height)]\n",
    "files_by_med_height_exp_peaks = [file for score, file in sorted(zip(median_height_exp_peaks, files))]"
   ]
  },
  {
   "cell_type": "code",
   "execution_count": 19,
   "id": "accepted-austria",
   "metadata": {},
   "outputs": [
    {
     "data": {
      "text/plain": [
       "['E (12).TXT',\n",
       " 'E (7).TXT',\n",
       " 'E (8).TXT',\n",
       " 'E (9).TXT',\n",
       " 'E (10).TXT',\n",
       " 'E (22).TXT',\n",
       " 'E (19).TXT',\n",
       " 'E (47).TXT',\n",
       " 'E (11).TXT',\n",
       " 'E (13).TXT',\n",
       " 'E (5).TXT',\n",
       " 'E (4).TXT',\n",
       " 'E (6).TXT',\n",
       " 'E (39).TXT',\n",
       " 'E (18).TXT',\n",
       " 'E (23).TXT',\n",
       " 'E (26).TXT',\n",
       " 'E (38).TXT',\n",
       " 'E (43).TXT',\n",
       " 'E (21).TXT',\n",
       " 'E (40).TXT',\n",
       " 'E (42).TXT',\n",
       " 'E (50).TXT',\n",
       " 'E (49).TXT',\n",
       " 'E (2).TXT',\n",
       " 'E (20).TXT',\n",
       " 'E (44).TXT',\n",
       " 'E (52).TXT',\n",
       " 'E (54).TXT',\n",
       " 'E (60).TXT',\n",
       " 'E (51).TXT',\n",
       " 'E (55).TXT',\n",
       " 'E (25).TXT',\n",
       " 'E (3).TXT',\n",
       " 'E (48).TXT',\n",
       " 'E (53).TXT',\n",
       " 'E (41).TXT',\n",
       " 'E (1).TXT',\n",
       " 'E (24).TXT',\n",
       " 'E (45).TXT',\n",
       " 'E (59).TXT',\n",
       " 'E (46).TXT',\n",
       " 'E (56).TXT',\n",
       " 'E (16).TXT',\n",
       " 'E (15).TXT',\n",
       " 'E (58).TXT',\n",
       " 'E (14).TXT',\n",
       " 'E (17).TXT',\n",
       " 'E (57).TXT',\n",
       " 'E (32).TXT',\n",
       " 'E (29).TXT',\n",
       " 'E (34).TXT',\n",
       " 'E (37).TXT',\n",
       " 'E (27).TXT',\n",
       " 'E (35).TXT',\n",
       " 'E (31).TXT',\n",
       " 'E (36).TXT',\n",
       " 'E (33).TXT',\n",
       " 'E (30).TXT',\n",
       " 'E (28).TXT']"
      ]
     },
     "execution_count": 19,
     "metadata": {},
     "output_type": "execute_result"
    }
   ],
   "source": [
    "files_by_total_area"
   ]
  },
  {
   "cell_type": "code",
   "execution_count": 20,
   "id": "functional-adventure",
   "metadata": {},
   "outputs": [
    {
     "data": {
      "text/plain": [
       "['E (10).TXT',\n",
       " 'E (19).TXT',\n",
       " 'E (22).TXT',\n",
       " 'E (9).TXT',\n",
       " 'E (11).TXT',\n",
       " 'E (47).TXT',\n",
       " 'E (13).TXT',\n",
       " 'E (4).TXT',\n",
       " 'E (6).TXT',\n",
       " 'E (39).TXT',\n",
       " 'E (23).TXT',\n",
       " 'E (5).TXT',\n",
       " 'E (18).TXT',\n",
       " 'E (26).TXT',\n",
       " 'E (38).TXT',\n",
       " 'E (40).TXT',\n",
       " 'E (43).TXT',\n",
       " 'E (21).TXT',\n",
       " 'E (8).TXT',\n",
       " 'E (50).TXT',\n",
       " 'E (2).TXT',\n",
       " 'E (42).TXT',\n",
       " 'E (12).TXT',\n",
       " 'E (49).TXT',\n",
       " 'E (20).TXT',\n",
       " 'E (44).TXT',\n",
       " 'E (60).TXT',\n",
       " 'E (55).TXT',\n",
       " 'E (51).TXT',\n",
       " 'E (52).TXT',\n",
       " 'E (54).TXT',\n",
       " 'E (3).TXT',\n",
       " 'E (25).TXT',\n",
       " 'E (41).TXT',\n",
       " 'E (7).TXT',\n",
       " 'E (48).TXT',\n",
       " 'E (53).TXT',\n",
       " 'E (1).TXT',\n",
       " 'E (24).TXT',\n",
       " 'E (45).TXT',\n",
       " 'E (46).TXT',\n",
       " 'E (56).TXT',\n",
       " 'E (15).TXT',\n",
       " 'E (58).TXT',\n",
       " 'E (59).TXT',\n",
       " 'E (16).TXT',\n",
       " 'E (17).TXT',\n",
       " 'E (14).TXT',\n",
       " 'E (57).TXT',\n",
       " 'E (32).TXT',\n",
       " 'E (34).TXT',\n",
       " 'E (29).TXT',\n",
       " 'E (31).TXT',\n",
       " 'E (27).TXT',\n",
       " 'E (37).TXT',\n",
       " 'E (36).TXT',\n",
       " 'E (35).TXT',\n",
       " 'E (30).TXT',\n",
       " 'E (33).TXT',\n",
       " 'E (28).TXT']"
      ]
     },
     "execution_count": 20,
     "metadata": {},
     "output_type": "execute_result"
    }
   ],
   "source": [
    "files_by_avg_area"
   ]
  },
  {
   "cell_type": "code",
   "execution_count": 21,
   "id": "killing-sussex",
   "metadata": {},
   "outputs": [
    {
     "data": {
      "text/plain": [
       "['E (12).TXT',\n",
       " 'E (9).TXT',\n",
       " 'E (8).TXT',\n",
       " 'E (22).TXT',\n",
       " 'E (10).TXT',\n",
       " 'E (47).TXT',\n",
       " 'E (11).TXT',\n",
       " 'E (19).TXT',\n",
       " 'E (13).TXT',\n",
       " 'E (39).TXT',\n",
       " 'E (6).TXT',\n",
       " 'E (4).TXT',\n",
       " 'E (5).TXT',\n",
       " 'E (23).TXT',\n",
       " 'E (18).TXT',\n",
       " 'E (26).TXT',\n",
       " 'E (43).TXT',\n",
       " 'E (40).TXT',\n",
       " 'E (21).TXT',\n",
       " 'E (42).TXT',\n",
       " 'E (50).TXT',\n",
       " 'E (2).TXT',\n",
       " 'E (55).TXT',\n",
       " 'E (49).TXT',\n",
       " 'E (38).TXT',\n",
       " 'E (44).TXT',\n",
       " 'E (60).TXT',\n",
       " 'E (52).TXT',\n",
       " 'E (20).TXT',\n",
       " 'E (54).TXT',\n",
       " 'E (53).TXT',\n",
       " 'E (51).TXT',\n",
       " 'E (25).TXT',\n",
       " 'E (24).TXT',\n",
       " 'E (3).TXT',\n",
       " 'E (41).TXT',\n",
       " 'E (48).TXT',\n",
       " 'E (45).TXT',\n",
       " 'E (56).TXT',\n",
       " 'E (58).TXT',\n",
       " 'E (15).TXT',\n",
       " 'E (1).TXT',\n",
       " 'E (59).TXT',\n",
       " 'E (17).TXT',\n",
       " 'E (16).TXT',\n",
       " 'E (46).TXT',\n",
       " 'E (7).TXT',\n",
       " 'E (14).TXT',\n",
       " 'E (57).TXT',\n",
       " 'E (32).TXT',\n",
       " 'E (29).TXT',\n",
       " 'E (37).TXT',\n",
       " 'E (34).TXT',\n",
       " 'E (27).TXT',\n",
       " 'E (28).TXT',\n",
       " 'E (33).TXT',\n",
       " 'E (36).TXT',\n",
       " 'E (35).TXT',\n",
       " 'E (31).TXT',\n",
       " 'E (30).TXT']"
      ]
     },
     "execution_count": 21,
     "metadata": {},
     "output_type": "execute_result"
    }
   ],
   "source": [
    "files_by_median_height"
   ]
  },
  {
   "cell_type": "code",
   "execution_count": 22,
   "id": "australian-cambodia",
   "metadata": {},
   "outputs": [
    {
     "data": {
      "text/plain": [
       "['E (10).TXT',\n",
       " 'E (19).TXT',\n",
       " 'E (9).TXT',\n",
       " 'E (11).TXT',\n",
       " 'E (22).TXT',\n",
       " 'E (47).TXT',\n",
       " 'E (4).TXT',\n",
       " 'E (13).TXT',\n",
       " 'E (6).TXT',\n",
       " 'E (39).TXT',\n",
       " 'E (5).TXT',\n",
       " 'E (23).TXT',\n",
       " 'E (18).TXT',\n",
       " 'E (38).TXT',\n",
       " 'E (43).TXT',\n",
       " 'E (26).TXT',\n",
       " 'E (40).TXT',\n",
       " 'E (21).TXT',\n",
       " 'E (8).TXT',\n",
       " 'E (50).TXT',\n",
       " 'E (42).TXT',\n",
       " 'E (2).TXT',\n",
       " 'E (49).TXT',\n",
       " 'E (20).TXT',\n",
       " 'E (44).TXT',\n",
       " 'E (12).TXT',\n",
       " 'E (55).TXT',\n",
       " 'E (60).TXT',\n",
       " 'E (51).TXT',\n",
       " 'E (52).TXT',\n",
       " 'E (54).TXT',\n",
       " 'E (3).TXT',\n",
       " 'E (48).TXT',\n",
       " 'E (25).TXT',\n",
       " 'E (41).TXT',\n",
       " 'E (53).TXT',\n",
       " 'E (7).TXT',\n",
       " 'E (1).TXT',\n",
       " 'E (24).TXT',\n",
       " 'E (45).TXT',\n",
       " 'E (46).TXT',\n",
       " 'E (15).TXT',\n",
       " 'E (56).TXT',\n",
       " 'E (59).TXT',\n",
       " 'E (58).TXT',\n",
       " 'E (16).TXT',\n",
       " 'E (17).TXT',\n",
       " 'E (14).TXT',\n",
       " 'E (57).TXT',\n",
       " 'E (32).TXT',\n",
       " 'E (34).TXT',\n",
       " 'E (29).TXT',\n",
       " 'E (37).TXT',\n",
       " 'E (27).TXT',\n",
       " 'E (36).TXT',\n",
       " 'E (35).TXT',\n",
       " 'E (31).TXT',\n",
       " 'E (33).TXT',\n",
       " 'E (28).TXT',\n",
       " 'E (30).TXT']"
      ]
     },
     "execution_count": 22,
     "metadata": {},
     "output_type": "execute_result"
    }
   ],
   "source": [
    "files_by_avg_height"
   ]
  },
  {
   "cell_type": "code",
   "execution_count": 145,
   "id": "civilian-cherry",
   "metadata": {},
   "outputs": [
    {
     "data": {
      "text/plain": [
       "['E (7).TXT',\n",
       " 'E (12).TXT',\n",
       " 'E (8).TXT',\n",
       " 'E (9).TXT',\n",
       " 'E (10).TXT',\n",
       " 'E (22).TXT',\n",
       " 'E (5).TXT',\n",
       " 'E (14).TXT',\n",
       " 'E (28).TXT',\n",
       " 'E (47).TXT',\n",
       " 'E (18).TXT',\n",
       " 'E (25).TXT',\n",
       " 'E (33).TXT',\n",
       " 'E (37).TXT',\n",
       " 'E (59).TXT',\n",
       " 'E (26).TXT',\n",
       " 'E (27).TXT',\n",
       " 'E (32).TXT',\n",
       " 'E (35).TXT',\n",
       " 'E (39).TXT',\n",
       " 'E (49).TXT',\n",
       " 'E (53).TXT',\n",
       " 'E (54).TXT',\n",
       " 'E (57).TXT',\n",
       " 'E (13).TXT',\n",
       " 'E (19).TXT',\n",
       " 'E (36).TXT',\n",
       " 'E (4).TXT',\n",
       " 'E (48).TXT',\n",
       " 'E (52).TXT',\n",
       " 'E (6).TXT',\n",
       " 'E (1).TXT',\n",
       " 'E (11).TXT',\n",
       " 'E (16).TXT',\n",
       " 'E (20).TXT',\n",
       " 'E (29).TXT',\n",
       " 'E (3).TXT',\n",
       " 'E (30).TXT',\n",
       " 'E (43).TXT',\n",
       " 'E (42).TXT',\n",
       " 'E (44).TXT',\n",
       " 'E (56).TXT',\n",
       " 'E (17).TXT',\n",
       " 'E (34).TXT',\n",
       " 'E (38).TXT',\n",
       " 'E (45).TXT',\n",
       " 'E (51).TXT',\n",
       " 'E (55).TXT',\n",
       " 'E (15).TXT',\n",
       " 'E (21).TXT',\n",
       " 'E (24).TXT',\n",
       " 'E (31).TXT',\n",
       " 'E (50).TXT',\n",
       " 'E (58).TXT',\n",
       " 'E (60).TXT',\n",
       " 'E (41).TXT',\n",
       " 'E (46).TXT',\n",
       " 'E (2).TXT',\n",
       " 'E (23).TXT',\n",
       " 'E (40).TXT']"
      ]
     },
     "execution_count": 145,
     "metadata": {},
     "output_type": "execute_result"
    }
   ],
   "source": [
    "files_by_n_peaks"
   ]
  },
  {
   "cell_type": "code",
   "execution_count": 136,
   "id": "liked-formation",
   "metadata": {},
   "outputs": [
    {
     "data": {
      "text/plain": [
       "['E (7).TXT',\n",
       " 'E (12).TXT',\n",
       " 'E (8).TXT',\n",
       " 'E (9).TXT',\n",
       " 'E (22).TXT',\n",
       " 'E (10).TXT',\n",
       " 'E (47).TXT',\n",
       " 'E (19).TXT',\n",
       " 'E (5).TXT',\n",
       " 'E (11).TXT',\n",
       " 'E (13).TXT',\n",
       " 'E (4).TXT',\n",
       " 'E (6).TXT',\n",
       " 'E (39).TXT',\n",
       " 'E (18).TXT',\n",
       " 'E (26).TXT',\n",
       " 'E (23).TXT',\n",
       " 'E (43).TXT',\n",
       " 'E (38).TXT',\n",
       " 'E (49).TXT',\n",
       " 'E (21).TXT',\n",
       " 'E (42).TXT',\n",
       " 'E (20).TXT',\n",
       " 'E (50).TXT',\n",
       " 'E (54).TXT',\n",
       " 'E (40).TXT',\n",
       " 'E (2).TXT',\n",
       " 'E (52).TXT',\n",
       " 'E (44).TXT',\n",
       " 'E (25).TXT',\n",
       " 'E (51).TXT',\n",
       " 'E (60).TXT',\n",
       " 'E (55).TXT',\n",
       " 'E (3).TXT',\n",
       " 'E (48).TXT',\n",
       " 'E (53).TXT',\n",
       " 'E (1).TXT',\n",
       " 'E (41).TXT',\n",
       " 'E (24).TXT',\n",
       " 'E (59).TXT',\n",
       " 'E (45).TXT',\n",
       " 'E (14).TXT',\n",
       " 'E (56).TXT',\n",
       " 'E (16).TXT',\n",
       " 'E (46).TXT',\n",
       " 'E (15).TXT',\n",
       " 'E (58).TXT',\n",
       " 'E (17).TXT',\n",
       " 'E (57).TXT',\n",
       " 'E (32).TXT',\n",
       " 'E (37).TXT',\n",
       " 'E (27).TXT',\n",
       " 'E (29).TXT',\n",
       " 'E (35).TXT',\n",
       " 'E (34).TXT',\n",
       " 'E (33).TXT',\n",
       " 'E (36).TXT',\n",
       " 'E (31).TXT',\n",
       " 'E (28).TXT',\n",
       " 'E (30).TXT']"
      ]
     },
     "execution_count": 136,
     "metadata": {},
     "output_type": "execute_result"
    }
   ],
   "source": [
    "files_by_area_x_peaks"
   ]
  },
  {
   "cell_type": "code",
   "execution_count": 137,
   "id": "secondary-runner",
   "metadata": {},
   "outputs": [
    {
     "data": {
      "text/plain": [
       "['E (7).TXT',\n",
       " 'E (12).TXT',\n",
       " 'E (8).TXT',\n",
       " 'E (9).TXT',\n",
       " 'E (22).TXT',\n",
       " 'E (10).TXT',\n",
       " 'E (5).TXT',\n",
       " 'E (47).TXT',\n",
       " 'E (18).TXT',\n",
       " 'E (19).TXT',\n",
       " 'E (39).TXT',\n",
       " 'E (13).TXT',\n",
       " 'E (11).TXT',\n",
       " 'E (4).TXT',\n",
       " 'E (6).TXT',\n",
       " 'E (26).TXT',\n",
       " 'E (49).TXT',\n",
       " 'E (25).TXT',\n",
       " 'E (54).TXT',\n",
       " 'E (43).TXT',\n",
       " 'E (53).TXT',\n",
       " 'E (14).TXT',\n",
       " 'E (52).TXT',\n",
       " 'E (20).TXT',\n",
       " 'E (59).TXT',\n",
       " 'E (48).TXT',\n",
       " 'E (38).TXT',\n",
       " 'E (42).TXT',\n",
       " 'E (3).TXT',\n",
       " 'E (44).TXT',\n",
       " 'E (1).TXT',\n",
       " 'E (21).TXT',\n",
       " 'E (50).TXT',\n",
       " 'E (51).TXT',\n",
       " 'E (55).TXT',\n",
       " 'E (57).TXT',\n",
       " 'E (28).TXT',\n",
       " 'E (37).TXT',\n",
       " 'E (16).TXT',\n",
       " 'E (32).TXT',\n",
       " 'E (33).TXT',\n",
       " 'E (23).TXT',\n",
       " 'E (56).TXT',\n",
       " 'E (60).TXT',\n",
       " 'E (27).TXT',\n",
       " 'E (45).TXT',\n",
       " 'E (35).TXT',\n",
       " 'E (2).TXT',\n",
       " 'E (24).TXT',\n",
       " 'E (40).TXT',\n",
       " 'E (36).TXT',\n",
       " 'E (17).TXT',\n",
       " 'E (41).TXT',\n",
       " 'E (29).TXT',\n",
       " 'E (15).TXT',\n",
       " 'E (58).TXT',\n",
       " 'E (30).TXT',\n",
       " 'E (46).TXT',\n",
       " 'E (34).TXT',\n",
       " 'E (31).TXT']"
      ]
     },
     "execution_count": 137,
     "metadata": {},
     "output_type": "execute_result"
    }
   ],
   "source": [
    "files_by_area_exp_peaks"
   ]
  },
  {
   "cell_type": "code",
   "execution_count": 139,
   "id": "mathematical-ribbon",
   "metadata": {},
   "outputs": [
    {
     "data": {
      "text/plain": [
       "['E (7).TXT',\n",
       " 'E (12).TXT',\n",
       " 'E (8).TXT',\n",
       " 'E (9).TXT',\n",
       " 'E (10).TXT',\n",
       " 'E (22).TXT',\n",
       " 'E (5).TXT',\n",
       " 'E (47).TXT',\n",
       " 'E (19).TXT',\n",
       " 'E (18).TXT',\n",
       " 'E (11).TXT',\n",
       " 'E (39).TXT',\n",
       " 'E (4).TXT',\n",
       " 'E (13).TXT',\n",
       " 'E (6).TXT',\n",
       " 'E (26).TXT',\n",
       " 'E (49).TXT',\n",
       " 'E (43).TXT',\n",
       " 'E (25).TXT',\n",
       " 'E (54).TXT',\n",
       " 'E (20).TXT',\n",
       " 'E (52).TXT',\n",
       " 'E (53).TXT',\n",
       " 'E (38).TXT',\n",
       " 'E (42).TXT',\n",
       " 'E (48).TXT',\n",
       " 'E (14).TXT',\n",
       " 'E (59).TXT',\n",
       " 'E (3).TXT',\n",
       " 'E (44).TXT',\n",
       " 'E (21).TXT',\n",
       " 'E (50).TXT',\n",
       " 'E (55).TXT',\n",
       " 'E (1).TXT',\n",
       " 'E (51).TXT',\n",
       " 'E (23).TXT',\n",
       " 'E (57).TXT',\n",
       " 'E (16).TXT',\n",
       " 'E (60).TXT',\n",
       " 'E (2).TXT',\n",
       " 'E (56).TXT',\n",
       " 'E (40).TXT',\n",
       " 'E (45).TXT',\n",
       " 'E (37).TXT',\n",
       " 'E (28).TXT',\n",
       " 'E (24).TXT',\n",
       " 'E (32).TXT',\n",
       " 'E (33).TXT',\n",
       " 'E (27).TXT',\n",
       " 'E (35).TXT',\n",
       " 'E (41).TXT',\n",
       " 'E (17).TXT',\n",
       " 'E (15).TXT',\n",
       " 'E (58).TXT',\n",
       " 'E (36).TXT',\n",
       " 'E (29).TXT',\n",
       " 'E (46).TXT',\n",
       " 'E (30).TXT',\n",
       " 'E (34).TXT',\n",
       " 'E (31).TXT']"
      ]
     },
     "execution_count": 139,
     "metadata": {},
     "output_type": "execute_result"
    }
   ],
   "source": [
    "files_by_height_exp_peaks"
   ]
  },
  {
   "cell_type": "code",
   "execution_count": 142,
   "id": "popular-trouble",
   "metadata": {},
   "outputs": [
    {
     "data": {
      "text/plain": [
       "['E (12).TXT',\n",
       " 'E (7).TXT',\n",
       " 'E (8).TXT',\n",
       " 'E (9).TXT',\n",
       " 'E (22).TXT',\n",
       " 'E (10).TXT',\n",
       " 'E (5).TXT',\n",
       " 'E (47).TXT',\n",
       " 'E (19).TXT',\n",
       " 'E (39).TXT',\n",
       " 'E (18).TXT',\n",
       " 'E (13).TXT',\n",
       " 'E (11).TXT',\n",
       " 'E (6).TXT',\n",
       " 'E (4).TXT',\n",
       " 'E (26).TXT',\n",
       " 'E (49).TXT',\n",
       " 'E (43).TXT',\n",
       " 'E (25).TXT',\n",
       " 'E (53).TXT',\n",
       " 'E (42).TXT',\n",
       " 'E (54).TXT',\n",
       " 'E (52).TXT',\n",
       " 'E (20).TXT',\n",
       " 'E (38).TXT',\n",
       " 'E (14).TXT',\n",
       " 'E (44).TXT',\n",
       " 'E (55).TXT',\n",
       " 'E (21).TXT',\n",
       " 'E (3).TXT',\n",
       " 'E (48).TXT',\n",
       " 'E (50).TXT',\n",
       " 'E (59).TXT',\n",
       " 'E (23).TXT',\n",
       " 'E (1).TXT',\n",
       " 'E (51).TXT',\n",
       " 'E (28).TXT',\n",
       " 'E (40).TXT',\n",
       " 'E (57).TXT',\n",
       " 'E (45).TXT',\n",
       " 'E (2).TXT',\n",
       " 'E (60).TXT',\n",
       " 'E (37).TXT',\n",
       " 'E (24).TXT',\n",
       " 'E (16).TXT',\n",
       " 'E (56).TXT',\n",
       " 'E (33).TXT',\n",
       " 'E (32).TXT',\n",
       " 'E (58).TXT',\n",
       " 'E (27).TXT',\n",
       " 'E (15).TXT',\n",
       " 'E (41).TXT',\n",
       " 'E (35).TXT',\n",
       " 'E (17).TXT',\n",
       " 'E (36).TXT',\n",
       " 'E (29).TXT',\n",
       " 'E (46).TXT',\n",
       " 'E (34).TXT',\n",
       " 'E (30).TXT',\n",
       " 'E (31).TXT']"
      ]
     },
     "execution_count": 142,
     "metadata": {},
     "output_type": "execute_result"
    }
   ],
   "source": [
    "files_by_med_height_exp_peaks"
   ]
  },
  {
   "cell_type": "code",
   "execution_count": 146,
   "id": "korean-waterproof",
   "metadata": {},
   "outputs": [
    {
     "data": {
      "text/plain": [
       "numpy.ndarray"
      ]
     },
     "execution_count": 146,
     "metadata": {},
     "output_type": "execute_result"
    }
   ],
   "source": [
    "type(wavenumbers)"
   ]
  },
  {
   "cell_type": "code",
   "execution_count": null,
   "id": "occupational-manhattan",
   "metadata": {},
   "outputs": [],
   "source": []
  }
 ],
 "metadata": {
  "kernelspec": {
   "display_name": "Python 3",
   "language": "python",
   "name": "python3"
  },
  "language_info": {
   "codemirror_mode": {
    "name": "ipython",
    "version": 3
   },
   "file_extension": ".py",
   "mimetype": "text/x-python",
   "name": "python",
   "nbconvert_exporter": "python",
   "pygments_lexer": "ipython3",
   "version": "3.8.5"
  }
 },
 "nbformat": 4,
 "nbformat_minor": 5
}

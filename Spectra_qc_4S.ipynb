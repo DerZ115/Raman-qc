{
 "cells": [
  {
   "cell_type": "code",
   "execution_count": 8,
   "id": "floral-navigator",
   "metadata": {},
   "outputs": [],
   "source": [
    "import os\n",
    "import math\n",
    "import numpy as np\n",
    "import scipy.signal as sig\n",
    "import matplotlib.pyplot as plt\n",
    "import matplotlib.colors as colors\n",
    "import matplotlib.ticker as ticker\n",
    "from matplotlib import cm\n",
    "from scipy import stats\n",
    "from scipy import optimize\n",
    "from scipy import integrate\n",
    "import scipy.linalg as la\n",
    "import numpy.polynomial.polynomial as poly\n",
    "from bisect import bisect_left\n",
    "import pprint"
   ]
  },
  {
   "cell_type": "code",
   "execution_count": 9,
   "id": "studied-parker",
   "metadata": {},
   "outputs": [],
   "source": [
    "def import_file(path, limit_low=None, limit_high=None):\n",
    "\n",
    "    spectrum = np.genfromtxt(path, delimiter=\",\")\n",
    "    spectrum = np.transpose(spectrum)\n",
    "    wavenumbers = spectrum[0]\n",
    "    intensities = spectrum[1]\n",
    "\n",
    "    if limit_low is not None:\n",
    "        limit_low_index = list(wavenumbers).index(limit_low)\n",
    "    else:\n",
    "        limit_low_index = 0\n",
    "        limit_low = wavenumbers[0]\n",
    "\n",
    "    if limit_high is not None:\n",
    "        limit_high_index = list(wavenumbers).index(limit_high)\n",
    "    else:\n",
    "        limit_high_index = len(wavenumbers)\n",
    "        limit_high = wavenumbers[-1]\n",
    "\n",
    "    wavenumbers = wavenumbers[limit_low_index:limit_high_index]\n",
    "    intensities = intensities[limit_low_index:limit_high_index]\n",
    "    return wavenumbers, intensities\n",
    "\n",
    "def import_directory(path, limit_low=None, limit_high=None):\n",
    "    if not path.endswith(\"/\"):\n",
    "        path = path + \"/\"\n",
    "    \n",
    "    files = os.listdir(path)\n",
    "    files = [file for file in files if file.lower().endswith(\".txt\")]\n",
    "    \n",
    "    files = sorted(files, key=lambda s: int(s[s.find(\"(\")+1:s.find(\")\")]))\n",
    "    \n",
    "    \n",
    "    wavenumbers = []\n",
    "    intensities = []\n",
    "        \n",
    "    for file in files:\n",
    "        wns, ints = import_file(path + file, limit_low, limit_high)\n",
    "        wavenumbers.append(wns)\n",
    "        intensities.append(ints)\n",
    "    return np.array(wavenumbers), np.array(intensities), files"
   ]
  },
  {
   "cell_type": "code",
   "execution_count": 10,
   "id": "valid-royal",
   "metadata": {},
   "outputs": [],
   "source": [
    "wavenumbers, intensities, files = import_directory(\"spectra\", 300, 1600)"
   ]
  },
  {
   "cell_type": "code",
   "execution_count": 11,
   "id": "growing-johnson",
   "metadata": {},
   "outputs": [],
   "source": [
    "##################################\n",
    "# Parameters for 4S Peak Filling #\n",
    "##################################\n",
    "\n",
    "penalty = 0         # Smoothing strength, starting value: 4\n",
    "half_width = 10      # Half width of suppression window, starting value: half width at half height of widest peak\n",
    "iterations = 6     # Number of iterations of the suppression cycle, starting value: 10\n",
    "buckets = 400       # Number of intervals the data is divided into, can also be an array of indices, starting value: 1/10 of the number of data points"
   ]
  },
  {
   "cell_type": "code",
   "execution_count": 12,
   "id": "funky-reception",
   "metadata": {},
   "outputs": [],
   "source": [
    "dims = np.shape(intensities)\n",
    "baseline = np.zeros(dims)\n",
    "corrected = np.zeros(dims)"
   ]
  },
  {
   "cell_type": "code",
   "execution_count": null,
   "id": "annual-finance",
   "metadata": {},
   "outputs": [],
   "source": []
  },
  {
   "cell_type": "code",
   "execution_count": 13,
   "id": "southeast-context",
   "metadata": {},
   "outputs": [
    {
     "data": {
      "text/plain": [
       "array([[ 0.,  0.,  1., ...,  1.,  1.,  1.],\n",
       "       [ 0., -2., -4., ..., -4., -4., -2.],\n",
       "       [ 2.,  6.,  7., ...,  7.,  6.,  2.],\n",
       "       [-2., -4., -4., ..., -4., -2.,  0.],\n",
       "       [ 1.,  1.,  1., ...,  1.,  0.,  0.]])"
      ]
     },
     "execution_count": 13,
     "metadata": {},
     "output_type": "execute_result"
    }
   ],
   "source": [
    "#############\n",
    "# Smoothing #\n",
    "#############\n",
    "\n",
    "diag = np.zeros((5,5))\n",
    "np.fill_diagonal(diag, 1)\n",
    "middle = np.matmul(np.diff(diag, n=2, axis=0).T, np.diff(diag, n=2, axis=0))\n",
    "zeros = np.zeros((2,5))\n",
    "\n",
    "to_band = np.vstack((zeros, middle, zeros))\n",
    "the_band = np.diag(to_band)\n",
    "\n",
    "for i in range(1, 5):\n",
    "    the_band = np.vstack((the_band, np.diag(to_band, -i)))\n",
    "    \n",
    "indices = [0,1] + [2] * (dims[1]-4) + [3,4]\n",
    "dd = the_band[:, indices] * (10**penalty)\n",
    "dd[2,] = dd[2,] + 1\n",
    "\n",
    "ints_original = intensities[:,:]\n",
    "intensities = la.solve_banded((2,2), dd, intensities.T).T\n",
    "dd"
   ]
  },
  {
   "cell_type": "code",
   "execution_count": 14,
   "id": "alpine-mistress",
   "metadata": {},
   "outputs": [
    {
     "data": {
      "text/plain": [
       "(300.0, 1599.5)"
      ]
     },
     "execution_count": 14,
     "metadata": {},
     "output_type": "execute_result"
    },
    {
     "data": {
      "image/png": "[encoded data removed]",
      "text/plain": [
       "<Figure size 432x288 with 1 Axes>"
      ]
     },
     "metadata": {
      "needs_background": "light"
     },
     "output_type": "display_data"
    }
   ],
   "source": [
    "fig, ax = plt.subplots()\n",
    "ax.plot(wavenumbers[0], ints_original[0], linewidth=1)\n",
    "ax.plot(wavenumbers[0], intensities[0], linewidth=1)\n",
    "ax.set_xlim((wavenumbers[0,0], wavenumbers[0,-1]))"
   ]
  },
  {
   "cell_type": "code",
   "execution_count": 15,
   "id": "advanced-grass",
   "metadata": {},
   "outputs": [
    {
     "data": {
      "text/plain": [
       "array([10,  7,  4,  3,  2,  1])"
      ]
     },
     "execution_count": 15,
     "metadata": {},
     "output_type": "execute_result"
    }
   ],
   "source": [
    "if iterations != 1:\n",
    "    d1 = math.log10(half_width)\n",
    "    d2 = 0\n",
    "\n",
    "    tmp = np.array(range(iterations-1)) * (d2 - d1) / (iterations - 1) + d1\n",
    "    tmp = np.append(tmp, d2)\n",
    "    w = np.ceil(10**tmp).astype(int)\n",
    "else:\n",
    "    w = np.array((half_width))\n",
    "\n",
    "w"
   ]
  },
  {
   "cell_type": "code",
   "execution_count": 16,
   "id": "young-default",
   "metadata": {},
   "outputs": [],
   "source": [
    "if isinstance(buckets, int):\n",
    "    lims = np.linspace(0, dims[1]-1, buckets+1, dtype=int)\n",
    "else:\n",
    "    lims = buckets\n",
    "    buckets = len(lims)-1\n",
    "    \n",
    "mids = np.rint(np.convolve(lims, np.ones(2), 'valid') / 2).astype(int)\n",
    "mids[0] = 0\n",
    "mids[-1] = dims[1]-1"
   ]
  },
  {
   "cell_type": "code",
   "execution_count": 17,
   "id": "human-brain",
   "metadata": {},
   "outputs": [
    {
     "name": "stdout",
     "output_type": "stream",
     "text": [
      "Using matplotlib backend: Qt5Agg\n"
     ]
    }
   ],
   "source": [
    "%matplotlib\n",
    "for s in range(dims[0]):\n",
    "    \n",
    "    ###############\n",
    "    # Subsampling #\n",
    "    ###############\n",
    "    \n",
    "    xx = np.zeros(buckets)\n",
    "    for i in range(buckets):\n",
    "        xx[i] = np.min(intensities[s, lims[i]:lims[i+1]])\n",
    "        \n",
    "    ###############\n",
    "    # Suppression #\n",
    "    ###############\n",
    "    \n",
    "    if s == 0:\n",
    "        fig, ax = plt.subplots()\n",
    "        ax.plot(wavenumbers[0], ints_original[0])\n",
    "        ax.set_xlim((wavenumbers[0,0], wavenumbers[0,-1]))\n",
    "        ax.invert_xaxis()\n",
    "        \n",
    "    \n",
    "    for i in range(iterations):\n",
    "        w0 = w[i]\n",
    "        \n",
    "        for j in range(1, buckets):\n",
    "            v = min(j, w0, buckets-j)\n",
    "            a = np.mean(xx[j-v:j+v+1])\n",
    "            xx[j] = min(a, xx[j])\n",
    "            \n",
    "        if s == 0:\n",
    "            ax.plot(wavenumbers[0, mids], xx, linewidth=0.5)\n",
    "            \n",
    "        for j in range(buckets-1, 0, -1):\n",
    "            v = min(j, w0, buckets-j)\n",
    "            a = np.mean(xx[j-v:j+v+1])\n",
    "            xx[j] = min(a, xx[j])\n",
    "        \n",
    "        if s == 0:\n",
    "            ax.plot(wavenumbers[0, mids], xx, linewidth=0.5)\n",
    "            \n",
    "    ##############\n",
    "    # Stretching #\n",
    "    ##############\n",
    "        \n",
    "    xxx = np.interp(range(dims[1]), mids, xx)\n",
    "    baseline[s] = xxx\n",
    "    corrected[s] = ints_original[s] - baseline[s]"
   ]
  },
  {
   "cell_type": "code",
   "execution_count": 18,
   "id": "white-semiconductor",
   "metadata": {},
   "outputs": [],
   "source": [
    "corrected_sg2 = sig.savgol_filter(x=corrected,\n",
    "                                  window_length=33,\n",
    "                                  polyorder=3,\n",
    "                                  deriv=2)\n",
    "\n",
    "peaks = []\n",
    "peaks_height = []\n",
    "for i, row in enumerate(corrected_sg2):\n",
    "    threshold = 0.05 + np.max(corrected[i])/30000\n",
    "#     print(i, threshold)\n",
    "    peaks_tmp = sig.argrelmin(row)[0]\n",
    "    peaks_tmp = [peak for peak in peaks_tmp if row[peak] < -threshold]\n",
    "    \n",
    "    peak_condensing = []\n",
    "    peaks_tmp2 = []\n",
    "    for j in range(len(row)):\n",
    "        if j in peaks_tmp:\n",
    "            peak_condensing.append(j)\n",
    "        if row[j] > 0 and len(peak_condensing) > 0:\n",
    "            peaks_tmp2.append(int(np.mean(peak_condensing)))\n",
    "            peak_condensing = []\n",
    "    if len(peak_condensing) > 0:\n",
    "        peaks_tmp2.append(int(np.mean(peak_condensing)))\n",
    "    \n",
    "    heights = [corrected[i, k] for k in peaks_tmp2]\n",
    "    \n",
    "    peaks.append(peaks_tmp2)\n",
    "    peaks_height.append(heights)\n",
    "    "
   ]
  },
  {
   "cell_type": "code",
   "execution_count": 19,
   "id": "serial-celebrity",
   "metadata": {},
   "outputs": [],
   "source": [
    "n_peaks = [len(row) for row in peaks]\n",
    "total_areas = integrate.simpson(corrected, wavenumbers)\n",
    "avg_area = [area/n for n, area in zip(n_peaks, total_areas)]\n",
    "median_height = [np.median(row) for row in peaks_height]\n",
    "avg_height = [np.mean(row) for row in peaks_height]"
   ]
  },
  {
   "cell_type": "code",
   "execution_count": 20,
   "id": "naked-dover",
   "metadata": {},
   "outputs": [
    {
     "name": "stdout",
     "output_type": "stream",
     "text": [
      "index\tn_peaks\ttotal_area\tavg_area\tmedian_height\tavg_height\n",
      "0\t28\t1121712\t\t40061\t\t1166\t\t1620\n",
      "1\t33\t957952\t\t29028\t\t731\t\t1183\n",
      "2\t32\t1173162\t\t36661\t\t1008\t\t1399\n",
      "3\t33\t161207\t\t4885\t\t124\t\t253\n",
      "4\t26\t204233\t\t7855\t\t188\t\t351\n",
      "5\t26\t598493\t\t23018\t\t522\t\t964\n",
      "6\t25\t314181\t\t12567\t\t304\t\t549\n",
      "7\t28\t608787\t\t21742\t\t576\t\t912\n",
      "8\t34\t501787\t\t14758\t\t349\t\t630\n",
      "9\t30\t1216818\t\t40560\t\t1052\t\t1559\n",
      "10\t26\t879236\t\t33816\t\t1002\t\t1407\n",
      "11\t32\t339100\t\t10596\t\t253\t\t494\n",
      "12\t26\t249361\t\t9590\t\t236\t\t422\n",
      "13\t25\t759265\t\t30370\t\t715\t\t1233\n",
      "14\t24\t419423\t\t17475\t\t470\t\t730\n",
      "15\t32\t710737\t\t22210\t\t651\t\t923\n",
      "16\t29\t1276743\t\t44025\t\t1365\t\t1789\n",
      "17\t29\t357839\t\t12339\t\t300\t\t510\n",
      "18\t26\t425506\t\t16365\t\t407\t\t677\n",
      "19\t28\t482525\t\t17233\t\t510\t\t704\n",
      "20\t30\t1593562\t\t53118\t\t1415\t\t2108\n",
      "21\t32\t225477\t\t7046\t\t220\t\t325\n",
      "22\t39\t425647\t\t10914\t\t381\t\t506\n",
      "23\t24\t234122\t\t9755\t\t218\t\t415\n",
      "24\t27\t281472\t\t10424\t\t245\t\t458\n",
      "25\t28\t1344799\t\t48028\t\t1161\t\t1795\n",
      "26\t34\t1552257\t\t45654\t\t1248\t\t1883\n",
      "27\t31\t452416\t\t14594\t\t426\t\t668\n",
      "28\t34\t1369589\t\t40282\t\t1082\t\t1644\n",
      "29\t32\t1560705\t\t48772\t\t1238\t\t2060\n",
      "30\t28\t1185530\t\t42340\t\t1016\t\t1647\n",
      "31\t26\t2829072\t\t108810\t\t2192\t\t4073\n",
      "32\t32\t3775987\t\t117999\t\t2287\t\t4589\n",
      "33\t36\t2979600\t\t82766\t\t1877\t\t3446\n",
      "34\t30\t2286036\t\t76201\t\t1617\t\t2889\n",
      "35\t29\t2321339\t\t80046\t\t1986\t\t3211\n",
      "36\t30\t3454524\t\t115150\t\t1930\t\t4217\n",
      "37\t34\t3329948\t\t97939\t\t1855\t\t3908\n",
      "38\t27\t3217967\t\t119183\t\t2455\t\t4613\n",
      "39\t26\t1542339\t\t59320\t\t1638\t\t2305\n",
      "40\t32\t897941\t\t28060\t\t760\t\t1121\n",
      "41\t33\t1460580\t\t44260\t\t954\t\t1766\n",
      "42\t30\t212703\t\t7090\t\t183\t\t354\n",
      "43\t35\t1914562\t\t54701\t\t1535\t\t2269\n",
      "44\t31\t3747593\t\t120890\t\t3103\t\t4935\n",
      "45\t33\t2525828\t\t76540\t\t1560\t\t3044\n",
      "46\t55\t663193\t\t12058\t\t264\t\t556\n"
     ]
    }
   ],
   "source": [
    "print(\"index\\tn_peaks\\ttotal_area\\tavg_area\\tmedian_height\\tavg_height\")\n",
    "for i in range(len(corrected)):\n",
    "    print(f\"{i}\\t{n_peaks[i]}\\t{int(total_areas[i])}\\t\\t{int(avg_area[i])}\\t\\t{int(median_height[i])}\\t\\t{int(avg_height[i])}\")"
   ]
  },
  {
   "cell_type": "code",
   "execution_count": 14,
   "id": "fancy-match",
   "metadata": {},
   "outputs": [],
   "source": [
    "# %matplotlib\n",
    "\n",
    "# for i in range(len(corrected)):\n",
    "\n",
    "#     fig, ax = plt.subplots(2)\n",
    "\n",
    "#     ax[0].plot(wavenumbers[i,], corrected[i,], linewidth=1)\n",
    "#     ax[0].set_xlim(wavenumbers[0,0], wavenumbers[0,-1])\n",
    "#     ax[0].invert_xaxis()\n",
    "#     ax[0].hlines(0, wavenumbers[0,0], wavenumbers[0,-1], color=\"black\", linewidth=0.5)\n",
    "#     ax[0].vlines(wavenumbers[i,peaks[i]], 0, np.max(corrected[i])*1.1, color=\"red\", linewidth=0.5)\n",
    "#     ax[0].grid()\n",
    "\n",
    "\n",
    "#     ax[1].plot(wavenumbers[i,], corrected_sg2[i,], linewidth=1)\n",
    "#     ax[1].set_xlim(wavenumbers[0,0], wavenumbers[0,-1])\n",
    "#     ax[1].invert_xaxis()\n",
    "#     ax[1].hlines(0, wavenumbers[0,0], wavenumbers[0,-1], color=\"black\", linewidth=0.5)\n",
    "#     ax[1].grid()"
   ]
  },
  {
   "cell_type": "code",
   "execution_count": 21,
   "id": "structural-florida",
   "metadata": {},
   "outputs": [
    {
     "name": "stdout",
     "output_type": "stream",
     "text": [
      "Using matplotlib backend: Qt5Agg\n"
     ]
    },
    {
     "name": "stderr",
     "output_type": "stream",
     "text": [
      "<ipython-input-21-f0d41b101e83>:5: RuntimeWarning: More than 20 figures have been opened. Figures created through the pyplot interface (`matplotlib.pyplot.figure`) are retained until explicitly closed and may consume too much memory. (To control this warning, see the rcParam `figure.max_open_warning`).\n",
      "  fig, ax = plt.subplots(2)\n"
     ]
    }
   ],
   "source": [
    "%matplotlib\n",
    "\n",
    "for i in range(len(corrected)):\n",
    "\n",
    "    fig, ax = plt.subplots(2)\n",
    "    ax[0].plot(wavenumbers[i,], ints_original[i,], linewidth=1)\n",
    "    ax[0].plot(wavenumbers[i,], baseline[i,], linewidth=1)\n",
    "    ax[0].set_xlim((wavenumbers[0,0], wavenumbers[0,-1]))\n",
    "    ax[0].invert_xaxis()\n",
    "    ax[0].grid()\n",
    "\n",
    "\n",
    "    ax[1].plot(wavenumbers[i,], corrected[i,], linewidth=1)\n",
    "    ax[1].set_xlim(wavenumbers[0,0], wavenumbers[0,-1])\n",
    "    ax[1].hlines(0, wavenumbers[0,0], wavenumbers[0,-1], color=\"black\", linewidth=0.5)\n",
    "    ax[1].vlines(wavenumbers[i,peaks[i]], 0, np.max(corrected[i])*1.1, color=\"red\", linewidth=0.5)\n",
    "    ax[1].invert_xaxis()\n",
    "    ax[1].grid()\n",
    "    \n",
    "    fig.suptitle(files[i])"
   ]
  },
  {
   "cell_type": "code",
   "execution_count": 17,
   "id": "aging-curve",
   "metadata": {},
   "outputs": [
    {
     "name": "stdout",
     "output_type": "stream",
     "text": [
      "Using matplotlib backend: Qt5Agg\n"
     ]
    },
    {
     "data": {
      "text/plain": [
       "[<matplotlib.lines.Line2D at 0x1e407766460>]"
      ]
     },
     "execution_count": 17,
     "metadata": {},
     "output_type": "execute_result"
    }
   ],
   "source": [
    "%matplotlib\n",
    "\n",
    "fig, ax = plt.subplots()\n",
    "ax.plot(avg_area, avg_height, \"bo\")"
   ]
  },
  {
   "cell_type": "code",
   "execution_count": 18,
   "id": "sharing-genealogy",
   "metadata": {},
   "outputs": [],
   "source": [
    "files_by_total_area = [file for area, file in sorted(zip(total_areas, files))]\n",
    "files_by_avg_area = [file for area, file in sorted(zip(avg_area, files))]\n",
    "files_by_median_height = [file for height, file in sorted(zip(median_height, files))]\n",
    "files_by_avg_height = [file for height, file in sorted(zip(avg_height, files))]\n",
    "files_by_n_peaks = [file for n, file in sorted(zip(n_peaks, files))]\n",
    "\n",
    "total_area_x_n_peaks = [n*area for n, area in zip(n_peaks, total_areas)]\n",
    "files_by_area_x_peaks = [file for score, file in sorted(zip(total_area_x_n_peaks, files))]\n",
    "\n",
    "avg_area_exp_peaks = [area**n for n, area in zip(n_peaks, avg_area)]\n",
    "files_by_area_exp_peaks = [file for score, file in sorted(zip(avg_area_exp_peaks, files))]\n",
    "\n",
    "avg_height_exp_peaks = [height**n for n, height in zip(n_peaks, avg_height)]\n",
    "files_by_height_exp_peaks = [file for score, file in sorted(zip(avg_height_exp_peaks, files))]\n",
    "\n",
    "median_height_exp_peaks = [height**n for n, height in zip(n_peaks, median_height)]\n",
    "files_by_med_height_exp_peaks = [file for score, file in sorted(zip(median_height_exp_peaks, files))]"
   ]
  },
  {
   "cell_type": "code",
   "execution_count": 19,
   "id": "ranging-spanish",
   "metadata": {},
   "outputs": [
    {
     "data": {
      "text/plain": [
       "['E (12).TXT',\n",
       " 'E (7).TXT',\n",
       " 'E (8).TXT',\n",
       " 'E (9).TXT',\n",
       " 'E (10).TXT',\n",
       " 'E (22).TXT',\n",
       " 'E (19).TXT',\n",
       " 'E (47).TXT',\n",
       " 'E (11).TXT',\n",
       " 'E (13).TXT',\n",
       " 'E (5).TXT',\n",
       " 'E (4).TXT',\n",
       " 'E (6).TXT',\n",
       " 'E (39).TXT',\n",
       " 'E (18).TXT',\n",
       " 'E (23).TXT',\n",
       " 'E (26).TXT',\n",
       " 'E (38).TXT',\n",
       " 'E (43).TXT',\n",
       " 'E (21).TXT',\n",
       " 'E (40).TXT',\n",
       " 'E (42).TXT',\n",
       " 'E (50).TXT',\n",
       " 'E (49).TXT',\n",
       " 'E (2).TXT',\n",
       " 'E (20).TXT',\n",
       " 'E (44).TXT',\n",
       " 'E (52).TXT',\n",
       " 'E (54).TXT',\n",
       " 'E (60).TXT',\n",
       " 'E (51).TXT',\n",
       " 'E (55).TXT',\n",
       " 'E (25).TXT',\n",
       " 'E (3).TXT',\n",
       " 'E (48).TXT',\n",
       " 'E (53).TXT',\n",
       " 'E (41).TXT',\n",
       " 'E (1).TXT',\n",
       " 'E (24).TXT',\n",
       " 'E (45).TXT',\n",
       " 'E (59).TXT',\n",
       " 'E (46).TXT',\n",
       " 'E (56).TXT',\n",
       " 'E (16).TXT',\n",
       " 'E (15).TXT',\n",
       " 'E (58).TXT',\n",
       " 'E (14).TXT',\n",
       " 'E (17).TXT',\n",
       " 'E (57).TXT',\n",
       " 'E (32).TXT',\n",
       " 'E (29).TXT',\n",
       " 'E (34).TXT',\n",
       " 'E (37).TXT',\n",
       " 'E (27).TXT',\n",
       " 'E (35).TXT',\n",
       " 'E (31).TXT',\n",
       " 'E (36).TXT',\n",
       " 'E (33).TXT',\n",
       " 'E (30).TXT',\n",
       " 'E (28).TXT']"
      ]
     },
     "execution_count": 19,
     "metadata": {},
     "output_type": "execute_result"
    }
   ],
   "source": [
    "files_by_total_area"
   ]
  },
  {
   "cell_type": "code",
   "execution_count": 20,
   "id": "clinical-alberta",
   "metadata": {},
   "outputs": [
    {
     "data": {
      "text/plain": [
       "['E (10).TXT',\n",
       " 'E (19).TXT',\n",
       " 'E (22).TXT',\n",
       " 'E (9).TXT',\n",
       " 'E (11).TXT',\n",
       " 'E (47).TXT',\n",
       " 'E (13).TXT',\n",
       " 'E (4).TXT',\n",
       " 'E (6).TXT',\n",
       " 'E (39).TXT',\n",
       " 'E (23).TXT',\n",
       " 'E (5).TXT',\n",
       " 'E (18).TXT',\n",
       " 'E (26).TXT',\n",
       " 'E (38).TXT',\n",
       " 'E (40).TXT',\n",
       " 'E (43).TXT',\n",
       " 'E (21).TXT',\n",
       " 'E (8).TXT',\n",
       " 'E (50).TXT',\n",
       " 'E (2).TXT',\n",
       " 'E (42).TXT',\n",
       " 'E (12).TXT',\n",
       " 'E (49).TXT',\n",
       " 'E (20).TXT',\n",
       " 'E (44).TXT',\n",
       " 'E (60).TXT',\n",
       " 'E (55).TXT',\n",
       " 'E (51).TXT',\n",
       " 'E (52).TXT',\n",
       " 'E (54).TXT',\n",
       " 'E (3).TXT',\n",
       " 'E (25).TXT',\n",
       " 'E (41).TXT',\n",
       " 'E (7).TXT',\n",
       " 'E (48).TXT',\n",
       " 'E (53).TXT',\n",
       " 'E (1).TXT',\n",
       " 'E (24).TXT',\n",
       " 'E (45).TXT',\n",
       " 'E (46).TXT',\n",
       " 'E (56).TXT',\n",
       " 'E (15).TXT',\n",
       " 'E (58).TXT',\n",
       " 'E (59).TXT',\n",
       " 'E (16).TXT',\n",
       " 'E (17).TXT',\n",
       " 'E (14).TXT',\n",
       " 'E (57).TXT',\n",
       " 'E (32).TXT',\n",
       " 'E (34).TXT',\n",
       " 'E (29).TXT',\n",
       " 'E (31).TXT',\n",
       " 'E (27).TXT',\n",
       " 'E (37).TXT',\n",
       " 'E (36).TXT',\n",
       " 'E (35).TXT',\n",
       " 'E (30).TXT',\n",
       " 'E (33).TXT',\n",
       " 'E (28).TXT']"
      ]
     },
     "execution_count": 20,
     "metadata": {},
     "output_type": "execute_result"
    }
   ],
   "source": [
    "files_by_avg_area"
   ]
  },
  {
   "cell_type": "code",
   "execution_count": 21,
   "id": "weird-jungle",
   "metadata": {},
   "outputs": [
    {
     "data": {
      "text/plain": [
       "['E (12).TXT',\n",
       " 'E (9).TXT',\n",
       " 'E (8).TXT',\n",
       " 'E (22).TXT',\n",
       " 'E (10).TXT',\n",
       " 'E (47).TXT',\n",
       " 'E (11).TXT',\n",
       " 'E (19).TXT',\n",
       " 'E (13).TXT',\n",
       " 'E (39).TXT',\n",
       " 'E (6).TXT',\n",
       " 'E (4).TXT',\n",
       " 'E (5).TXT',\n",
       " 'E (23).TXT',\n",
       " 'E (18).TXT',\n",
       " 'E (26).TXT',\n",
       " 'E (43).TXT',\n",
       " 'E (40).TXT',\n",
       " 'E (21).TXT',\n",
       " 'E (42).TXT',\n",
       " 'E (50).TXT',\n",
       " 'E (2).TXT',\n",
       " 'E (55).TXT',\n",
       " 'E (49).TXT',\n",
       " 'E (38).TXT',\n",
       " 'E (44).TXT',\n",
       " 'E (60).TXT',\n",
       " 'E (52).TXT',\n",
       " 'E (20).TXT',\n",
       " 'E (54).TXT',\n",
       " 'E (53).TXT',\n",
       " 'E (51).TXT',\n",
       " 'E (25).TXT',\n",
       " 'E (24).TXT',\n",
       " 'E (3).TXT',\n",
       " 'E (41).TXT',\n",
       " 'E (48).TXT',\n",
       " 'E (45).TXT',\n",
       " 'E (56).TXT',\n",
       " 'E (58).TXT',\n",
       " 'E (15).TXT',\n",
       " 'E (1).TXT',\n",
       " 'E (59).TXT',\n",
       " 'E (17).TXT',\n",
       " 'E (16).TXT',\n",
       " 'E (46).TXT',\n",
       " 'E (7).TXT',\n",
       " 'E (14).TXT',\n",
       " 'E (57).TXT',\n",
       " 'E (32).TXT',\n",
       " 'E (29).TXT',\n",
       " 'E (37).TXT',\n",
       " 'E (34).TXT',\n",
       " 'E (27).TXT',\n",
       " 'E (28).TXT',\n",
       " 'E (33).TXT',\n",
       " 'E (36).TXT',\n",
       " 'E (35).TXT',\n",
       " 'E (31).TXT',\n",
       " 'E (30).TXT']"
      ]
     },
     "execution_count": 21,
     "metadata": {},
     "output_type": "execute_result"
    }
   ],
   "source": [
    "files_by_median_height"
   ]
  },
  {
   "cell_type": "code",
   "execution_count": 22,
   "id": "happy-collins",
   "metadata": {},
   "outputs": [
    {
     "data": {
      "text/plain": [
       "['E (10).TXT',\n",
       " 'E (19).TXT',\n",
       " 'E (9).TXT',\n",
       " 'E (11).TXT',\n",
       " 'E (22).TXT',\n",
       " 'E (47).TXT',\n",
       " 'E (4).TXT',\n",
       " 'E (13).TXT',\n",
       " 'E (6).TXT',\n",
       " 'E (39).TXT',\n",
       " 'E (5).TXT',\n",
       " 'E (23).TXT',\n",
       " 'E (18).TXT',\n",
       " 'E (38).TXT',\n",
       " 'E (43).TXT',\n",
       " 'E (26).TXT',\n",
       " 'E (40).TXT',\n",
       " 'E (21).TXT',\n",
       " 'E (8).TXT',\n",
       " 'E (50).TXT',\n",
       " 'E (42).TXT',\n",
       " 'E (2).TXT',\n",
       " 'E (49).TXT',\n",
       " 'E (20).TXT',\n",
       " 'E (44).TXT',\n",
       " 'E (12).TXT',\n",
       " 'E (55).TXT',\n",
       " 'E (60).TXT',\n",
       " 'E (51).TXT',\n",
       " 'E (52).TXT',\n",
       " 'E (54).TXT',\n",
       " 'E (3).TXT',\n",
       " 'E (48).TXT',\n",
       " 'E (25).TXT',\n",
       " 'E (41).TXT',\n",
       " 'E (53).TXT',\n",
       " 'E (7).TXT',\n",
       " 'E (1).TXT',\n",
       " 'E (24).TXT',\n",
       " 'E (45).TXT',\n",
       " 'E (46).TXT',\n",
       " 'E (15).TXT',\n",
       " 'E (56).TXT',\n",
       " 'E (59).TXT',\n",
       " 'E (58).TXT',\n",
       " 'E (16).TXT',\n",
       " 'E (17).TXT',\n",
       " 'E (14).TXT',\n",
       " 'E (57).TXT',\n",
       " 'E (32).TXT',\n",
       " 'E (34).TXT',\n",
       " 'E (29).TXT',\n",
       " 'E (37).TXT',\n",
       " 'E (27).TXT',\n",
       " 'E (36).TXT',\n",
       " 'E (35).TXT',\n",
       " 'E (31).TXT',\n",
       " 'E (33).TXT',\n",
       " 'E (28).TXT',\n",
       " 'E (30).TXT']"
      ]
     },
     "execution_count": 22,
     "metadata": {},
     "output_type": "execute_result"
    }
   ],
   "source": [
    "files_by_avg_height"
   ]
  },
  {
   "cell_type": "code",
   "execution_count": 145,
   "id": "dominican-accountability",
   "metadata": {},
   "outputs": [
    {
     "data": {
      "text/plain": [
       "['E (7).TXT',\n",
       " 'E (12).TXT',\n",
       " 'E (8).TXT',\n",
       " 'E (9).TXT',\n",
       " 'E (10).TXT',\n",
       " 'E (22).TXT',\n",
       " 'E (5).TXT',\n",
       " 'E (14).TXT',\n",
       " 'E (28).TXT',\n",
       " 'E (47).TXT',\n",
       " 'E (18).TXT',\n",
       " 'E (25).TXT',\n",
       " 'E (33).TXT',\n",
       " 'E (37).TXT',\n",
       " 'E (59).TXT',\n",
       " 'E (26).TXT',\n",
       " 'E (27).TXT',\n",
       " 'E (32).TXT',\n",
       " 'E (35).TXT',\n",
       " 'E (39).TXT',\n",
       " 'E (49).TXT',\n",
       " 'E (53).TXT',\n",
       " 'E (54).TXT',\n",
       " 'E (57).TXT',\n",
       " 'E (13).TXT',\n",
       " 'E (19).TXT',\n",
       " 'E (36).TXT',\n",
       " 'E (4).TXT',\n",
       " 'E (48).TXT',\n",
       " 'E (52).TXT',\n",
       " 'E (6).TXT',\n",
       " 'E (1).TXT',\n",
       " 'E (11).TXT',\n",
       " 'E (16).TXT',\n",
       " 'E (20).TXT',\n",
       " 'E (29).TXT',\n",
       " 'E (3).TXT',\n",
       " 'E (30).TXT',\n",
       " 'E (43).TXT',\n",
       " 'E (42).TXT',\n",
       " 'E (44).TXT',\n",
       " 'E (56).TXT',\n",
       " 'E (17).TXT',\n",
       " 'E (34).TXT',\n",
       " 'E (38).TXT',\n",
       " 'E (45).TXT',\n",
       " 'E (51).TXT',\n",
       " 'E (55).TXT',\n",
       " 'E (15).TXT',\n",
       " 'E (21).TXT',\n",
       " 'E (24).TXT',\n",
       " 'E (31).TXT',\n",
       " 'E (50).TXT',\n",
       " 'E (58).TXT',\n",
       " 'E (60).TXT',\n",
       " 'E (41).TXT',\n",
       " 'E (46).TXT',\n",
       " 'E (2).TXT',\n",
       " 'E (23).TXT',\n",
       " 'E (40).TXT']"
      ]
     },
     "execution_count": 145,
     "metadata": {},
     "output_type": "execute_result"
    }
   ],
   "source": [
    "files_by_n_peaks"
   ]
  },
  {
   "cell_type": "code",
   "execution_count": 136,
   "id": "lesbian-stock",
   "metadata": {},
   "outputs": [
    {
     "data": {
      "text/plain": [
       "['E (7).TXT',\n",
       " 'E (12).TXT',\n",
       " 'E (8).TXT',\n",
       " 'E (9).TXT',\n",
       " 'E (22).TXT',\n",
       " 'E (10).TXT',\n",
       " 'E (47).TXT',\n",
       " 'E (19).TXT',\n",
       " 'E (5).TXT',\n",
       " 'E (11).TXT',\n",
       " 'E (13).TXT',\n",
       " 'E (4).TXT',\n",
       " 'E (6).TXT',\n",
       " 'E (39).TXT',\n",
       " 'E (18).TXT',\n",
       " 'E (26).TXT',\n",
       " 'E (23).TXT',\n",
       " 'E (43).TXT',\n",
       " 'E (38).TXT',\n",
       " 'E (49).TXT',\n",
       " 'E (21).TXT',\n",
       " 'E (42).TXT',\n",
       " 'E (20).TXT',\n",
       " 'E (50).TXT',\n",
       " 'E (54).TXT',\n",
       " 'E (40).TXT',\n",
       " 'E (2).TXT',\n",
       " 'E (52).TXT',\n",
       " 'E (44).TXT',\n",
       " 'E (25).TXT',\n",
       " 'E (51).TXT',\n",
       " 'E (60).TXT',\n",
       " 'E (55).TXT',\n",
       " 'E (3).TXT',\n",
       " 'E (48).TXT',\n",
       " 'E (53).TXT',\n",
       " 'E (1).TXT',\n",
       " 'E (41).TXT',\n",
       " 'E (24).TXT',\n",
       " 'E (59).TXT',\n",
       " 'E (45).TXT',\n",
       " 'E (14).TXT',\n",
       " 'E (56).TXT',\n",
       " 'E (16).TXT',\n",
       " 'E (46).TXT',\n",
       " 'E (15).TXT',\n",
       " 'E (58).TXT',\n",
       " 'E (17).TXT',\n",
       " 'E (57).TXT',\n",
       " 'E (32).TXT',\n",
       " 'E (37).TXT',\n",
       " 'E (27).TXT',\n",
       " 'E (29).TXT',\n",
       " 'E (35).TXT',\n",
       " 'E (34).TXT',\n",
       " 'E (33).TXT',\n",
       " 'E (36).TXT',\n",
       " 'E (31).TXT',\n",
       " 'E (28).TXT',\n",
       " 'E (30).TXT']"
      ]
     },
     "execution_count": 136,
     "metadata": {},
     "output_type": "execute_result"
    }
   ],
   "source": [
    "files_by_area_x_peaks"
   ]
  },
  {
   "cell_type": "code",
   "execution_count": 137,
   "id": "exclusive-bridal",
   "metadata": {},
   "outputs": [
    {
     "data": {
      "text/plain": [
       "['E (7).TXT',\n",
       " 'E (12).TXT',\n",
       " 'E (8).TXT',\n",
       " 'E (9).TXT',\n",
       " 'E (22).TXT',\n",
       " 'E (10).TXT',\n",
       " 'E (5).TXT',\n",
       " 'E (47).TXT',\n",
       " 'E (18).TXT',\n",
       " 'E (19).TXT',\n",
       " 'E (39).TXT',\n",
       " 'E (13).TXT',\n",
       " 'E (11).TXT',\n",
       " 'E (4).TXT',\n",
       " 'E (6).TXT',\n",
       " 'E (26).TXT',\n",
       " 'E (49).TXT',\n",
       " 'E (25).TXT',\n",
       " 'E (54).TXT',\n",
       " 'E (43).TXT',\n",
       " 'E (53).TXT',\n",
       " 'E (14).TXT',\n",
       " 'E (52).TXT',\n",
       " 'E (20).TXT',\n",
       " 'E (59).TXT',\n",
       " 'E (48).TXT',\n",
       " 'E (38).TXT',\n",
       " 'E (42).TXT',\n",
       " 'E (3).TXT',\n",
       " 'E (44).TXT',\n",
       " 'E (1).TXT',\n",
       " 'E (21).TXT',\n",
       " 'E (50).TXT',\n",
       " 'E (51).TXT',\n",
       " 'E (55).TXT',\n",
       " 'E (57).TXT',\n",
       " 'E (28).TXT',\n",
       " 'E (37).TXT',\n",
       " 'E (16).TXT',\n",
       " 'E (32).TXT',\n",
       " 'E (33).TXT',\n",
       " 'E (23).TXT',\n",
       " 'E (56).TXT',\n",
       " 'E (60).TXT',\n",
       " 'E (27).TXT',\n",
       " 'E (45).TXT',\n",
       " 'E (35).TXT',\n",
       " 'E (2).TXT',\n",
       " 'E (24).TXT',\n",
       " 'E (40).TXT',\n",
       " 'E (36).TXT',\n",
       " 'E (17).TXT',\n",
       " 'E (41).TXT',\n",
       " 'E (29).TXT',\n",
       " 'E (15).TXT',\n",
       " 'E (58).TXT',\n",
       " 'E (30).TXT',\n",
       " 'E (46).TXT',\n",
       " 'E (34).TXT',\n",
       " 'E (31).TXT']"
      ]
     },
     "execution_count": 137,
     "metadata": {},
     "output_type": "execute_result"
    }
   ],
   "source": [
    "files_by_area_exp_peaks"
   ]
  },
  {
   "cell_type": "code",
   "execution_count": 139,
   "id": "criminal-musician",
   "metadata": {},
   "outputs": [
    {
     "data": {
      "text/plain": [
       "['E (7).TXT',\n",
       " 'E (12).TXT',\n",
       " 'E (8).TXT',\n",
       " 'E (9).TXT',\n",
       " 'E (10).TXT',\n",
       " 'E (22).TXT',\n",
       " 'E (5).TXT',\n",
       " 'E (47).TXT',\n",
       " 'E (19).TXT',\n",
       " 'E (18).TXT',\n",
       " 'E (11).TXT',\n",
       " 'E (39).TXT',\n",
       " 'E (4).TXT',\n",
       " 'E (13).TXT',\n",
       " 'E (6).TXT',\n",
       " 'E (26).TXT',\n",
       " 'E (49).TXT',\n",
       " 'E (43).TXT',\n",
       " 'E (25).TXT',\n",
       " 'E (54).TXT',\n",
       " 'E (20).TXT',\n",
       " 'E (52).TXT',\n",
       " 'E (53).TXT',\n",
       " 'E (38).TXT',\n",
       " 'E (42).TXT',\n",
       " 'E (48).TXT',\n",
       " 'E (14).TXT',\n",
       " 'E (59).TXT',\n",
       " 'E (3).TXT',\n",
       " 'E (44).TXT',\n",
       " 'E (21).TXT',\n",
       " 'E (50).TXT',\n",
       " 'E (55).TXT',\n",
       " 'E (1).TXT',\n",
       " 'E (51).TXT',\n",
       " 'E (23).TXT',\n",
       " 'E (57).TXT',\n",
       " 'E (16).TXT',\n",
       " 'E (60).TXT',\n",
       " 'E (2).TXT',\n",
       " 'E (56).TXT',\n",
       " 'E (40).TXT',\n",
       " 'E (45).TXT',\n",
       " 'E (37).TXT',\n",
       " 'E (28).TXT',\n",
       " 'E (24).TXT',\n",
       " 'E (32).TXT',\n",
       " 'E (33).TXT',\n",
       " 'E (27).TXT',\n",
       " 'E (35).TXT',\n",
       " 'E (41).TXT',\n",
       " 'E (17).TXT',\n",
       " 'E (15).TXT',\n",
       " 'E (58).TXT',\n",
       " 'E (36).TXT',\n",
       " 'E (29).TXT',\n",
       " 'E (46).TXT',\n",
       " 'E (30).TXT',\n",
       " 'E (34).TXT',\n",
       " 'E (31).TXT']"
      ]
     },
     "execution_count": 139,
     "metadata": {},
     "output_type": "execute_result"
    }
   ],
   "source": [
    "files_by_height_exp_peaks"
   ]
  },
  {
   "cell_type": "code",
   "execution_count": 142,
   "id": "environmental-assessment",
   "metadata": {},
   "outputs": [
    {
     "data": {
      "text/plain": [
       "['E (12).TXT',\n",
       " 'E (7).TXT',\n",
       " 'E (8).TXT',\n",
       " 'E (9).TXT',\n",
       " 'E (22).TXT',\n",
       " 'E (10).TXT',\n",
       " 'E (5).TXT',\n",
       " 'E (47).TXT',\n",
       " 'E (19).TXT',\n",
       " 'E (39).TXT',\n",
       " 'E (18).TXT',\n",
       " 'E (13).TXT',\n",
       " 'E (11).TXT',\n",
       " 'E (6).TXT',\n",
       " 'E (4).TXT',\n",
       " 'E (26).TXT',\n",
       " 'E (49).TXT',\n",
       " 'E (43).TXT',\n",
       " 'E (25).TXT',\n",
       " 'E (53).TXT',\n",
       " 'E (42).TXT',\n",
       " 'E (54).TXT',\n",
       " 'E (52).TXT',\n",
       " 'E (20).TXT',\n",
       " 'E (38).TXT',\n",
       " 'E (14).TXT',\n",
       " 'E (44).TXT',\n",
       " 'E (55).TXT',\n",
       " 'E (21).TXT',\n",
       " 'E (3).TXT',\n",
       " 'E (48).TXT',\n",
       " 'E (50).TXT',\n",
       " 'E (59).TXT',\n",
       " 'E (23).TXT',\n",
       " 'E (1).TXT',\n",
       " 'E (51).TXT',\n",
       " 'E (28).TXT',\n",
       " 'E (40).TXT',\n",
       " 'E (57).TXT',\n",
       " 'E (45).TXT',\n",
       " 'E (2).TXT',\n",
       " 'E (60).TXT',\n",
       " 'E (37).TXT',\n",
       " 'E (24).TXT',\n",
       " 'E (16).TXT',\n",
       " 'E (56).TXT',\n",
       " 'E (33).TXT',\n",
       " 'E (32).TXT',\n",
       " 'E (58).TXT',\n",
       " 'E (27).TXT',\n",
       " 'E (15).TXT',\n",
       " 'E (41).TXT',\n",
       " 'E (35).TXT',\n",
       " 'E (17).TXT',\n",
       " 'E (36).TXT',\n",
       " 'E (29).TXT',\n",
       " 'E (46).TXT',\n",
       " 'E (34).TXT',\n",
       " 'E (30).TXT',\n",
       " 'E (31).TXT']"
      ]
     },
     "execution_count": 142,
     "metadata": {},
     "output_type": "execute_result"
    }
   ],
   "source": [
    "files_by_med_height_exp_peaks"
   ]
  },
  {
   "cell_type": "code",
   "execution_count": 6,
   "id": "indie-provision",
   "metadata": {},
   "outputs": [
    {
     "name": "stdout",
     "output_type": "stream",
     "text": [
      "Object `plt.axes.Axes.tick_params` not found.\n"
     ]
    }
   ],
   "source": [
    "?"
   ]
  },
  {
   "cell_type": "code",
   "execution_count": 5,
   "id": "toxic-satin",
   "metadata": {},
   "outputs": [
    {
     "data": {
      "image/png": "[encoded data removed]",
      "text/plain": [
       "<Figure size 432x288 with 1 Axes>"
      ]
     },
     "metadata": {
      "needs_background": "light"
     },
     "output_type": "display_data"
    }
   ],
   "source": [
    "fig, ax = plt.subplots()\n",
    "ax.set_yl"
   ]
  },
  {
   "cell_type": "code",
   "execution_count": null,
   "id": "spiritual-presence",
   "metadata": {},
   "outputs": [],
   "source": []
  }
 ],
 "metadata": {
  "kernelspec": {
   "display_name": "Python 3",
   "language": "python",
   "name": "python3"
  },
  "language_info": {
   "codemirror_mode": {
    "name": "ipython",
    "version": 3
   },
   "file_extension": ".py",
   "mimetype": "text/x-python",
   "name": "python",
   "nbconvert_exporter": "python",
   "pygments_lexer": "ipython3",
   "version": "3.8.5"
  }
 },
 "nbformat": 4,
 "nbformat_minor": 5
}

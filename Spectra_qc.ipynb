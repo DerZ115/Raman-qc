{
 "cells": [
  {
   "cell_type": "code",
   "execution_count": 1,
   "id": "anonymous-twins",
   "metadata": {},
   "outputs": [],
   "source": [
    "import os\n",
    "import pywt\n",
    "import math\n",
    "import numpy as np\n",
    "import scipy.signal as sig\n",
    "import matplotlib.pyplot as plt\n",
    "import matplotlib.colors as colors\n",
    "from matplotlib import cm\n",
    "from scipy.stats import norm\n",
    "import numpy.polynomial.polynomial as poly"
   ]
  },
  {
   "cell_type": "code",
   "execution_count": 2,
   "id": "operating-guest",
   "metadata": {},
   "outputs": [],
   "source": [
    "def import_file(path, limit_low=None, limit_high=None):\n",
    "\n",
    "    spectrum = np.genfromtxt(path, delimiter=\",\")\n",
    "    spectrum = np.transpose(spectrum)\n",
    "    wavenumbers = spectrum[0]\n",
    "    intensities = spectrum[1]\n",
    "\n",
    "    if limit_low is not None:\n",
    "        limit_low_index = list(wavenumbers).index(limit_low)\n",
    "    else:\n",
    "        limit_low_index = 0\n",
    "        limit_low = wavenumbers[0]\n",
    "\n",
    "    if limit_high is not None:\n",
    "        limit_high_index = list(wavenumbers).index(limit_high)\n",
    "    else:\n",
    "        limit_high_index = len(wavenumbers)\n",
    "        limit_high = wavenumbers[-1]\n",
    "\n",
    "    wavenumbers = wavenumbers[limit_low_index:limit_high_index]\n",
    "    intensities = intensities[limit_low_index:limit_high_index]\n",
    "    return wavenumbers, intensities\n",
    "\n",
    "def import_directory(path, limit_low=None, limit_high=None):\n",
    "    # files = os.listdir(path)\n",
    "\n",
    "    # for filename in files:\n",
    "    #     np.genfromtxt(filename, delimiter=\",\")\n",
    "    pass"
   ]
  },
  {
   "cell_type": "code",
   "execution_count": 3,
   "id": "faced-guyana",
   "metadata": {},
   "outputs": [],
   "source": [
    "wavenumbers, intensities = import_file(\"spectra/E (1).TXT\", limit_low=300, limit_high=2000)"
   ]
  },
  {
   "cell_type": "code",
   "execution_count": 4,
   "id": "impressed-version",
   "metadata": {},
   "outputs": [],
   "source": [
    "intensities_sg = sig.savgol_filter(intensities, \n",
    "                                   window_length=3, \n",
    "                                   polyorder=1, \n",
    "                                   deriv=0)"
   ]
  },
  {
   "cell_type": "code",
   "execution_count": 5,
   "id": "delayed-muscle",
   "metadata": {},
   "outputs": [],
   "source": [
    "def plot_raw_spectra(wavenumbers, intensities):\n",
    "    fig, ax = plt.subplots()\n",
    "    ax.plot(wavenumbers, intensities_sg, linewidth = 1, color = \"red\")\n",
    "    ax.set_xlim(wavenumbers[0], wavenumbers[-1])\n",
    "    ax.invert_xaxis()\n",
    "    ax.grid()"
   ]
  },
  {
   "cell_type": "code",
   "execution_count": 6,
   "id": "official-tooth",
   "metadata": {},
   "outputs": [
    {
     "name": "stdout",
     "output_type": "stream",
     "text": [
      "Using matplotlib backend: Qt5Agg\n"
     ]
    }
   ],
   "source": [
    "%matplotlib\n",
    "plot_raw_spectra(wavenumbers, intensities_sg)"
   ]
  },
  {
   "cell_type": "code",
   "execution_count": 7,
   "id": "ancient-parameter",
   "metadata": {},
   "outputs": [],
   "source": [
    "intensities_ext = np.concatenate((np.full(400, intensities_sg[0]), intensities_sg, np.full(400, intensities_sg[-1])))\n",
    "scales = np.linspace(1, 200, 200)\n",
    "\n",
    "coefs, freqs = pywt.cwt(data=intensities_ext, scales=scales, wavelet=\"mexh\")\n",
    "\n",
    "coefs = coefs[:,400:-400]"
   ]
  },
  {
   "cell_type": "code",
   "execution_count": 8,
   "id": "vulnerable-probe",
   "metadata": {},
   "outputs": [],
   "source": [
    "wavenumbers_grid, scales_grid = np.meshgrid(wavenumbers, scales)"
   ]
  },
  {
   "cell_type": "code",
   "execution_count": 9,
   "id": "blessed-foster",
   "metadata": {},
   "outputs": [
    {
     "name": "stdout",
     "output_type": "stream",
     "text": [
      "Using matplotlib backend: Qt5Agg\n"
     ]
    }
   ],
   "source": [
    "%matplotlib\n",
    "fig, [ax1, ax2] = plt.subplots(2,1)\n",
    "sp = ax1.plot(wavenumbers, intensities_sg, linewidth=1, color=\"red\")\n",
    "ax1.set_xlim(wavenumbers[0], wavenumbers[-1])\n",
    "ax1.invert_xaxis()\n",
    "ax1.grid()\n",
    "\n",
    "cmap = cm.seismic\n",
    "normal = colors.Normalize(vmin=-np.max(np.abs(coefs)), vmax=np.max(np.abs(coefs)))\n",
    "\n",
    "cp = ax2.contourf(wavenumbers_grid, scales_grid, coefs, cmap=cmap, norm=normal, levels=200, extend=\"both\")\n",
    "cbar = fig.colorbar(cp, orientation=\"horizontal\")\n",
    "ax2.invert_xaxis()"
   ]
  },
  {
   "cell_type": "code",
   "execution_count": 11,
   "id": "attached-blackjack",
   "metadata": {},
   "outputs": [],
   "source": [
    "def shannon_entropy(data):\n",
    "    data_sum = np.abs(data).sum(axis=1, keepdims=True)\n",
    "    p_data = np.abs(data) / data_sum\n",
    "    shannon_H = -np.sum(p_data * np.log(p_data), axis=1)\n",
    "    return shannon_H"
   ]
  },
  {
   "cell_type": "code",
   "execution_count": 12,
   "id": "traditional-gothic",
   "metadata": {},
   "outputs": [],
   "source": [
    "def determine_optim_scale(coefs, scales):\n",
    "    shannon_H = shannon_entropy(coefs)\n",
    "    \n",
    "    plt.plot(scales, shannon_H)\n",
    "    min_H = sig.argrelextrema(shannon_H, np.less)\n",
    "    optim_scale = scales[min_H[0][0]]\n",
    "    return optim_scale\n",
    "\n",
    "scale = determine_optim_scale(coefs, scales)"
   ]
  },
  {
   "cell_type": "code",
   "execution_count": 13,
   "id": "authentic-produce",
   "metadata": {},
   "outputs": [],
   "source": [
    "intensities_ext = np.concatenate((np.full(400, intensities_sg[0]), intensities_sg, np.full(400, intensities_sg[-1])))\n",
    "coefs, freqs = pywt.cwt(data=intensities_ext, scales=scale, wavelet=\"mexh\")\n",
    "coefs = coefs[0,400:-400]"
   ]
  },
  {
   "cell_type": "code",
   "execution_count": 14,
   "id": "urban-richmond",
   "metadata": {},
   "outputs": [
    {
     "name": "stdout",
     "output_type": "stream",
     "text": [
      "Using matplotlib backend: Qt5Agg\n"
     ]
    }
   ],
   "source": [
    "%matplotlib\n",
    "fig, ax= plt.subplots()\n",
    "\n",
    "ax.plot(wavenumbers, intensities_sg, linewidth = 0.5, color = \"red\")\n",
    "ax.set_xlim(wavenumbers[0], wavenumbers[-1])\n",
    "ax.plot(wavenumbers, coefs, linewidth = 0.5, color = \"blue\")\n",
    "ax.invert_xaxis()\n",
    "ax.grid()"
   ]
  },
  {
   "cell_type": "code",
   "execution_count": 15,
   "id": "fitted-technology",
   "metadata": {},
   "outputs": [],
   "source": [
    "def iterative_gaussian_fit(data, n_bins=200, diff=0.05):\n",
    "    data_range = np.max(data) - np.min(data)\n",
    "    n_change_prev = 0\n",
    "    \n",
    "    while True:\n",
    "        # Calculate histogram\n",
    "        hist, bins = np.histogram(data, n_bins)\n",
    "        \n",
    "        # Find bins with density more than 1/3 of max density\n",
    "        max_bins_indices = np.where(hist > max(hist)/3)\n",
    "        max_bins_low = max_bins_indices[0][0]\n",
    "        max_bins_high = max_bins_indices[0][-1]\n",
    "        max_data_low = bins[max_bins_low]\n",
    "        max_data_high = bins[max_bins_high+1]\n",
    "        \n",
    "        # Reduce data to selected bins and calculate mean and standard deviation\n",
    "        data_reduced = data[data > max_data_low]\n",
    "        data_reduced = data_reduced[data_reduced < max_data_high]\n",
    "        mu, sigma = norm.fit(data_reduced, floc=0)\n",
    "        \n",
    "        #Calculate new number of bins nad compare difference\n",
    "        n_bins_prev = n_bins\n",
    "        n_bins = math.ceil(8 * data_range / sigma)\n",
    "        n_change = (n_bins/n_bins_prev)-1\n",
    "        print(\"Bins:\", n_bins, \"\\tChange:\", round(n_change*100, 1), \"%\")\n",
    "        if abs(n_change) <= diff or n_change*n_change_prev < 0:\n",
    "            return sigma\n",
    "        n_change_prev = n_change\n",
    "        "
   ]
  },
  {
   "cell_type": "code",
   "execution_count": 16,
   "id": "tutorial-coral",
   "metadata": {},
   "outputs": [
    {
     "name": "stdout",
     "output_type": "stream",
     "text": [
      "Bins: 738 \tChange: 269.0 %\n",
      "Bins: 1625 \tChange: 120.2 %\n",
      "Bins: 1755 \tChange: 8.0 %\n",
      "Bins: 1746 \tChange: -0.5 %\n"
     ]
    }
   ],
   "source": [
    "sigma = iterative_gaussian_fit(coefs)"
   ]
  },
  {
   "cell_type": "code",
   "execution_count": 16,
   "id": "relevant-recorder",
   "metadata": {},
   "outputs": [
    {
     "data": {
      "text/plain": [
       "[<matplotlib.lines.Line2D at 0x189e9215610>]"
      ]
     },
     "execution_count": 16,
     "metadata": {},
     "output_type": "execute_result"
    }
   ],
   "source": [
    "fig, ax = plt.subplots()\n",
    "density, bins, hist = ax.hist(coefs, bins=11466, density=True)\n",
    "x = np.linspace(-sigma*10, sigma*10, 100)\n",
    "gauss = norm.pdf(x,0, sigma)\n",
    "gauss = gauss / np.max(gauss) * np.max(density)\n",
    "ax.plot(x, gauss)"
   ]
  },
  {
   "cell_type": "code",
   "execution_count": 17,
   "id": "bigger-newman",
   "metadata": {},
   "outputs": [],
   "source": [
    "coefs_inner = coefs[np.abs(coefs) < 3*sigma]\n",
    "n_coefs_inner = len(coefs_inner)\n",
    "n_coefs_outer = len(coefs) - n_coefs_inner"
   ]
  },
  {
   "cell_type": "code",
   "execution_count": 18,
   "id": "parental-orchestra",
   "metadata": {},
   "outputs": [
    {
     "data": {
      "text/plain": [
       "18.108090614886734"
      ]
     },
     "execution_count": 18,
     "metadata": {},
     "output_type": "execute_result"
    }
   ],
   "source": [
    "theta = sigma * (0.6 + 10 * (n_coefs_outer/n_coefs_inner))\n",
    "theta/sigma"
   ]
  },
  {
   "cell_type": "code",
   "execution_count": 19,
   "id": "subject-excess",
   "metadata": {},
   "outputs": [],
   "source": [
    "baseline_indices = []\n",
    "\n",
    "for i in range(len(coefs)-9):\n",
    "    if np.all(np.abs(coefs[i:i+9])<theta):\n",
    "        baseline_indices.append(i+5)\n"
   ]
  },
  {
   "cell_type": "code",
   "execution_count": 20,
   "id": "collective-publicity",
   "metadata": {},
   "outputs": [],
   "source": [
    "baseline_wns = wavenumbers[baseline_indices]\n",
    "baseline_intensities = intensities_sg[baseline_indices]"
   ]
  },
  {
   "cell_type": "code",
   "execution_count": 23,
   "id": "incorporated-accuracy",
   "metadata": {},
   "outputs": [],
   "source": [
    "fig, ax = plt.subplots()\n",
    "\n",
    "ax.plot(wavenumbers, intensities)\n",
    "ax.plot(baseline_wns, baseline_intensities, color=\"red\", marker=\"o\", markersize=1, linewidth=0)\n",
    "ax.plot(wavenumbers, coefs)\n",
    "ax.hlines([-theta, 0, theta], wavenumbers[0], wavenumbers[-1])\n",
    "ax.set_xlim(wavenumbers[0], wavenumbers[-1])\n",
    "ax.invert_xaxis()\n",
    "ax.grid()"
   ]
  },
  {
   "cell_type": "code",
   "execution_count": 22,
   "id": "configured-miami",
   "metadata": {},
   "outputs": [],
   "source": [
    "fit_params, resid = poly.polyfit(baseline_wns, baseline_intensities, deg=5, full=True)\n",
    "resid = resid[0][0]\n",
    "res_std_err = math.sqrt(resid/len(baseline_wns))\n",
    "baseline_intensities_fit = poly.polyval(baseline_wns, fit_params)"
   ]
  },
  {
   "cell_type": "code",
   "execution_count": 24,
   "id": "incorporate-holmes",
   "metadata": {},
   "outputs": [],
   "source": [
    "intensities_fit = poly.polyval(wavenumbers, fit_params)\n",
    "fig, ax = plt.subplots()\n",
    "ax.plot(wavenumbers, intensities_fit, linewidth=1, color=\"red\")\n",
    "ax.plot(wavenumbers, intensities_sg, linewidth=1, color=\"blue\")\n",
    "ax.plot(baseline_wns, baseline_intensities, color=\"red\", marker=\"o\", markersize=1, linewidth=0)\n",
    "ax.set_xlim(wavenumbers[0], wavenumbers[-1])\n",
    "ax.invert_xaxis()\n",
    "ax.grid()"
   ]
  },
  {
   "cell_type": "code",
   "execution_count": 60,
   "id": "upset-barrel",
   "metadata": {},
   "outputs": [],
   "source": [
    "outliers = []\n",
    "for i in range(len(baseline_wns)):\n",
    "    if abs(baseline_intensities[i] - baseline_intensities_fit[i]) > 1.5 * res_std_err:\n",
    "        outliers.append(i)\n",
    "baseline_wns = [wn for i, wn in enumerate(baseline_wns) if i not in outliers]\n",
    "baseline_intensities = [intensity for i, intensity in enumerate(baseline_intensities) if i not in outliers]\n",
    "fit_params, resid = poly.polyfit(baseline_wns, baseline_intensities, deg=5, full=True)"
   ]
  },
  {
   "cell_type": "code",
   "execution_count": 61,
   "id": "compliant-handle",
   "metadata": {},
   "outputs": [],
   "source": [
    "intensities_fit = poly.polyval(wavenumbers, fit_params)\n",
    "fig, ax = plt.subplots()\n",
    "ax.plot(wavenumbers, intensities_fit, linewidth=1, color=\"red\")\n",
    "ax.plot(wavenumbers, intensities_sg, linewidth=1, color=\"blue\")\n",
    "ax.plot(baseline_wns, baseline_intensities, color=\"red\", marker=\"o\", markersize=1, linewidth=0)\n",
    "ax.set_xlim(wavenumbers[0], wavenumbers[-1])\n",
    "ax.invert_xaxis()\n",
    "ax.grid()"
   ]
  },
  {
   "cell_type": "code",
   "execution_count": 62,
   "id": "opponent-robin",
   "metadata": {},
   "outputs": [],
   "source": [
    "negatives = 0\n",
    "k = math.ceil(len(wavenumbers)/100)\n",
    "for i in range(len(wavenumbers)):\n",
    "    if intensities_sg[i] < intensities_fit[i]:\n",
    "        negatives += 1\n",
    "    else:\n",
    "        if negatives >= k:\n",
    "            j = i - negatives//2\n",
    "            baseline_wns.append(wavenumbers[j])\n",
    "            baseline_intensities.append(intensities_sg[j])\n",
    "        negatives = 0"
   ]
  },
  {
   "cell_type": "code",
   "execution_count": 271,
   "id": "toxic-stability",
   "metadata": {},
   "outputs": [
    {
     "data": {
      "text/plain": [
       "\u001b[1;31mSignature:\u001b[0m \u001b[0mnp\u001b[0m\u001b[1;33m.\u001b[0m\u001b[0mall\u001b[0m\u001b[1;33m(\u001b[0m\u001b[0ma\u001b[0m\u001b[1;33m,\u001b[0m \u001b[0maxis\u001b[0m\u001b[1;33m=\u001b[0m\u001b[1;32mNone\u001b[0m\u001b[1;33m,\u001b[0m \u001b[0mout\u001b[0m\u001b[1;33m=\u001b[0m\u001b[1;32mNone\u001b[0m\u001b[1;33m,\u001b[0m \u001b[0mkeepdims\u001b[0m\u001b[1;33m=\u001b[0m\u001b[1;33m<\u001b[0m\u001b[0mno\u001b[0m \u001b[0mvalue\u001b[0m\u001b[1;33m>\u001b[0m\u001b[1;33m)\u001b[0m\u001b[1;33m\u001b[0m\u001b[1;33m\u001b[0m\u001b[0m\n",
       "\u001b[1;31mDocstring:\u001b[0m\n",
       "Test whether all array elements along a given axis evaluate to True.\n",
       "\n",
       "Parameters\n",
       "----------\n",
       "a : array_like\n",
       "    Input array or object that can be converted to an array.\n",
       "axis : None or int or tuple of ints, optional\n",
       "    Axis or axes along which a logical AND reduction is performed.\n",
       "    The default (``axis=None``) is to perform a logical AND over all\n",
       "    the dimensions of the input array. `axis` may be negative, in\n",
       "    which case it counts from the last to the first axis.\n",
       "\n",
       "    .. versionadded:: 1.7.0\n",
       "\n",
       "    If this is a tuple of ints, a reduction is performed on multiple\n",
       "    axes, instead of a single axis or all the axes as before.\n",
       "out : ndarray, optional\n",
       "    Alternate output array in which to place the result.\n",
       "    It must have the same shape as the expected output and its\n",
       "    type is preserved (e.g., if ``dtype(out)`` is float, the result\n",
       "    will consist of 0.0's and 1.0's). See `ufuncs-output-type` for more\n",
       "    details.\n",
       "\n",
       "keepdims : bool, optional\n",
       "    If this is set to True, the axes which are reduced are left\n",
       "    in the result as dimensions with size one. With this option,\n",
       "    the result will broadcast correctly against the input array.\n",
       "\n",
       "    If the default value is passed, then `keepdims` will not be\n",
       "    passed through to the `all` method of sub-classes of\n",
       "    `ndarray`, however any non-default value will be.  If the\n",
       "    sub-class' method does not implement `keepdims` any\n",
       "    exceptions will be raised.\n",
       "\n",
       "Returns\n",
       "-------\n",
       "all : ndarray, bool\n",
       "    A new boolean or array is returned unless `out` is specified,\n",
       "    in which case a reference to `out` is returned.\n",
       "\n",
       "See Also\n",
       "--------\n",
       "ndarray.all : equivalent method\n",
       "\n",
       "any : Test whether any element along a given axis evaluates to True.\n",
       "\n",
       "Notes\n",
       "-----\n",
       "Not a Number (NaN), positive infinity and negative infinity\n",
       "evaluate to `True` because these are not equal to zero.\n",
       "\n",
       "Examples\n",
       "--------\n",
       ">>> np.all([[True,False],[True,True]])\n",
       "False\n",
       "\n",
       ">>> np.all([[True,False],[True,True]], axis=0)\n",
       "array([ True, False])\n",
       "\n",
       ">>> np.all([-1, 4, 5])\n",
       "True\n",
       "\n",
       ">>> np.all([1.0, np.nan])\n",
       "True\n",
       "\n",
       ">>> o=np.array(False)\n",
       ">>> z=np.all([-1, 4, 5], out=o)\n",
       ">>> id(z), id(o), z\n",
       "(28293632, 28293632, array(True)) # may vary\n",
       "\u001b[1;31mFile:\u001b[0m      c:\\users\\daniel\\.conda\\envs\\raman\\lib\\site-packages\\numpy\\core\\fromnumeric.py\n",
       "\u001b[1;31mType:\u001b[0m      function\n"
      ]
     },
     "metadata": {},
     "output_type": "display_data"
    }
   ],
   "source": []
  },
  {
   "cell_type": "code",
   "execution_count": null,
   "id": "sought-dancing",
   "metadata": {},
   "outputs": [],
   "source": []
  }
 ],
 "metadata": {
  "kernelspec": {
   "display_name": "Python 3",
   "language": "python",
   "name": "python3"
  },
  "language_info": {
   "codemirror_mode": {
    "name": "ipython",
    "version": 3
   },
   "file_extension": ".py",
   "mimetype": "text/x-python",
   "name": "python",
   "nbconvert_exporter": "python",
   "pygments_lexer": "ipython3",
   "version": "3.8.5"
  }
 },
 "nbformat": 4,
 "nbformat_minor": 5
}

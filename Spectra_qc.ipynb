{
 "cells": [
  {
   "cell_type": "code",
   "execution_count": 1,
   "id": "fifteen-windows",
   "metadata": {},
   "outputs": [],
   "source": [
    "import os\n",
    "import pywt\n",
    "import numpy as np\n",
    "import matplotlib.pyplot as plt\n",
    "import scipy.signal as sig"
   ]
  },
  {
   "cell_type": "code",
   "execution_count": 23,
   "id": "collectible-spectacular",
   "metadata": {},
   "outputs": [],
   "source": [
    "# files = os.listdir(\"spectra\")\n",
    "\n",
    "# for filename in files:\n",
    "#     np.genfromtxt(filename, delimiter=\",\")\n",
    "\n",
    "limit_low = None\n",
    "limit_high = None\n",
    "\n",
    "spectrum = np.genfromtxt(\"spectra/E (1).TXT\", delimiter=\",\")\n",
    "spectrum = np.transpose(spectrum)\n",
    "wavenumbers = spectrum[0]\n",
    "intensities = spectrum[1]\n",
    "\n",
    "if limit_low is not None:\n",
    "    limit_low_index = list(wavenumbers).index(limit_low)\n",
    "else:\n",
    "    limit_low_index = 0\n",
    "\n",
    "if limit_high is not None:\n",
    "    limit_high_index = list(wavenumbers).index(limit_high)\n",
    "else:\n",
    "    limit_high_index = len(wavenumbers)\n",
    "\n",
    "wavenumbers = wavenumbers[limit_low_index:limit_high_index]\n",
    "intensities = intensities[limit_low_index:limit_high_index]"
   ]
  },
  {
   "cell_type": "code",
   "execution_count": 38,
   "id": "historic-textbook",
   "metadata": {},
   "outputs": [],
   "source": [
    "intensities_sg = sig.savgol_filter(intensities, \n",
    "                                   window_length=3, \n",
    "                                   polyorder=0, \n",
    "                                   deriv=0)"
   ]
  },
  {
   "cell_type": "code",
   "execution_count": 39,
   "id": "nutritional-tiffany",
   "metadata": {},
   "outputs": [
    {
     "name": "stdout",
     "output_type": "stream",
     "text": [
      "Using matplotlib backend: Qt5Agg\n"
     ]
    }
   ],
   "source": [
    "%matplotlib\n",
    "fig, ax = plt.subplots()\n",
    "ax.plot(wavenumbers, intensities_sg, linewidth = 1, color = \"red\")\n",
    "ax.set_xlim(limit_low, limit_high)\n",
    "ax.invert_xaxis()\n",
    "ax.grid()"
   ]
  },
  {
   "cell_type": "code",
   "execution_count": 52,
   "id": "intelligent-costa",
   "metadata": {},
   "outputs": [
    {
     "data": {
      "text/plain": [
       "6821"
      ]
     },
     "execution_count": 52,
     "metadata": {},
     "output_type": "execute_result"
    }
   ],
   "source": [
    "intensities_ext = np.concatenate((np.full(400, intensities_sg[0]), intensities_sg, np.full(400, intensities_sg[-1])))\n",
    "scales = np.arange(1,201)\n",
    "\n",
    "coefs, freqs = pywt.cwt(data=intensities_ext, scales=scales, wavelet=\"mexh\")\n",
    "\n",
    "coefs = coefs[:,400:-400]"
   ]
  },
  {
   "cell_type": "code",
   "execution_count": 53,
   "id": "absolute-variable",
   "metadata": {},
   "outputs": [],
   "source": [
    "wavenumbers_grid, scales_grid = np.meshgrid(wavenumbers, scales)"
   ]
  },
  {
   "cell_type": "code",
   "execution_count": 54,
   "id": "wireless-columbus",
   "metadata": {},
   "outputs": [
    {
     "name": "stdout",
     "output_type": "stream",
     "text": [
      "Using matplotlib backend: Qt5Agg\n"
     ]
    },
    {
     "data": {
      "text/plain": [
       "<matplotlib.colorbar.Colorbar at 0x2f4a0750d30>"
      ]
     },
     "execution_count": 54,
     "metadata": {},
     "output_type": "execute_result"
    }
   ],
   "source": [
    "%matplotlib\n",
    "fig, ax = plt.subplots()\n",
    "cp = ax.contourf(wavenumbers_grid, scales_grid, coefs)\n",
    "fig.colorbar(cp)"
   ]
  },
  {
   "cell_type": "code",
   "execution_count": 57,
   "id": "taken-cambridge",
   "metadata": {},
   "outputs": [
    {
     "name": "stderr",
     "output_type": "stream",
     "text": [
      "<ipython-input-57-fe72b2a3c0b7>:3: RuntimeWarning: invalid value encountered in log\n",
      "  shannon_H = np.sum(p_coefs * np.log(p_coefs))\n"
     ]
    }
   ],
   "source": [
    "p_coefs = coefs / coefs.sum()\n",
    "\n",
    "shannon_H = np.sum(p_coefs * np.log(p_coefs))"
   ]
  },
  {
   "cell_type": "code",
   "execution_count": 56,
   "id": "extra-denial",
   "metadata": {},
   "outputs": [
    {
     "data": {
      "text/plain": [
       "\u001b[1;31mCall signature:\u001b[0m  \u001b[0mnp\u001b[0m\u001b[1;33m.\u001b[0m\u001b[0mlog\u001b[0m\u001b[1;33m(\u001b[0m\u001b[1;33m*\u001b[0m\u001b[0margs\u001b[0m\u001b[1;33m,\u001b[0m \u001b[1;33m**\u001b[0m\u001b[0mkwargs\u001b[0m\u001b[1;33m)\u001b[0m\u001b[1;33m\u001b[0m\u001b[1;33m\u001b[0m\u001b[0m\n",
       "\u001b[1;31mType:\u001b[0m            ufunc\n",
       "\u001b[1;31mString form:\u001b[0m     <ufunc 'log'>\n",
       "\u001b[1;31mFile:\u001b[0m            c:\\users\\daniel\\.conda\\envs\\raman\\lib\\site-packages\\numpy\\__init__.py\n",
       "\u001b[1;31mDocstring:\u001b[0m      \n",
       "log(x, /, out=None, *, where=True, casting='same_kind', order='K', dtype=None, subok=True[, signature, extobj])\n",
       "\n",
       "Natural logarithm, element-wise.\n",
       "\n",
       "The natural logarithm `log` is the inverse of the exponential function,\n",
       "so that `log(exp(x)) = x`. The natural logarithm is logarithm in base\n",
       "`e`.\n",
       "\n",
       "Parameters\n",
       "----------\n",
       "x : array_like\n",
       "    Input value.\n",
       "out : ndarray, None, or tuple of ndarray and None, optional\n",
       "    A location into which the result is stored. If provided, it must have\n",
       "    a shape that the inputs broadcast to. If not provided or None,\n",
       "    a freshly-allocated array is returned. A tuple (possible only as a\n",
       "    keyword argument) must have length equal to the number of outputs.\n",
       "where : array_like, optional\n",
       "    This condition is broadcast over the input. At locations where the\n",
       "    condition is True, the `out` array will be set to the ufunc result.\n",
       "    Elsewhere, the `out` array will retain its original value.\n",
       "    Note that if an uninitialized `out` array is created via the default\n",
       "    ``out=None``, locations within it where the condition is False will\n",
       "    remain uninitialized.\n",
       "**kwargs\n",
       "    For other keyword-only arguments, see the\n",
       "    :ref:`ufunc docs <ufuncs.kwargs>`.\n",
       "\n",
       "Returns\n",
       "-------\n",
       "y : ndarray\n",
       "    The natural logarithm of `x`, element-wise.\n",
       "    This is a scalar if `x` is a scalar.\n",
       "\n",
       "See Also\n",
       "--------\n",
       "log10, log2, log1p, emath.log\n",
       "\n",
       "Notes\n",
       "-----\n",
       "Logarithm is a multivalued function: for each `x` there is an infinite\n",
       "number of `z` such that `exp(z) = x`. The convention is to return the\n",
       "`z` whose imaginary part lies in `[-pi, pi]`.\n",
       "\n",
       "For real-valued input data types, `log` always returns real output. For\n",
       "each value that cannot be expressed as a real number or infinity, it\n",
       "yields ``nan`` and sets the `invalid` floating point error flag.\n",
       "\n",
       "For complex-valued input, `log` is a complex analytical function that\n",
       "has a branch cut `[-inf, 0]` and is continuous from above on it. `log`\n",
       "handles the floating-point negative zero as an infinitesimal negative\n",
       "number, conforming to the C99 standard.\n",
       "\n",
       "References\n",
       "----------\n",
       ".. [1] M. Abramowitz and I.A. Stegun, \"Handbook of Mathematical Functions\",\n",
       "       10th printing, 1964, pp. 67. http://www.math.sfu.ca/~cbm/aands/\n",
       ".. [2] Wikipedia, \"Logarithm\". https://en.wikipedia.org/wiki/Logarithm\n",
       "\n",
       "Examples\n",
       "--------\n",
       ">>> np.log([1, np.e, np.e**2, 0])\n",
       "array([  0.,   1.,   2., -Inf])\n",
       "\u001b[1;31mClass docstring:\u001b[0m\n",
       "Functions that operate element by element on whole arrays.\n",
       "\n",
       "To see the documentation for a specific ufunc, use `info`.  For\n",
       "example, ``np.info(np.sin)``.  Because ufuncs are written in C\n",
       "(for speed) and linked into Python with NumPy's ufunc facility,\n",
       "Python's help() function finds this page whenever help() is called\n",
       "on a ufunc.\n",
       "\n",
       "A detailed explanation of ufuncs can be found in the docs for :ref:`ufuncs`.\n",
       "\n",
       "Calling ufuncs:\n",
       "===============\n",
       "\n",
       "op(*x[, out], where=True, **kwargs)\n",
       "Apply `op` to the arguments `*x` elementwise, broadcasting the arguments.\n",
       "\n",
       "The broadcasting rules are:\n",
       "\n",
       "* Dimensions of length 1 may be prepended to either array.\n",
       "* Arrays may be repeated along dimensions of length 1.\n",
       "\n",
       "Parameters\n",
       "----------\n",
       "*x : array_like\n",
       "    Input arrays.\n",
       "out : ndarray, None, or tuple of ndarray and None, optional\n",
       "    Alternate array object(s) in which to put the result; if provided, it\n",
       "    must have a shape that the inputs broadcast to. A tuple of arrays\n",
       "    (possible only as a keyword argument) must have length equal to the\n",
       "    number of outputs; use None for uninitialized outputs to be\n",
       "    allocated by the ufunc.\n",
       "where : array_like, optional\n",
       "    This condition is broadcast over the input. At locations where the\n",
       "    condition is True, the `out` array will be set to the ufunc result.\n",
       "    Elsewhere, the `out` array will retain its original value.\n",
       "    Note that if an uninitialized `out` array is created via the default\n",
       "    ``out=None``, locations within it where the condition is False will\n",
       "    remain uninitialized.\n",
       "**kwargs\n",
       "    For other keyword-only arguments, see the :ref:`ufunc docs <ufuncs.kwargs>`.\n",
       "\n",
       "Returns\n",
       "-------\n",
       "r : ndarray or tuple of ndarray\n",
       "    `r` will have the shape that the arrays in `x` broadcast to; if `out` is\n",
       "    provided, it will be returned. If not, `r` will be allocated and\n",
       "    may contain uninitialized values. If the function has more than one\n",
       "    output, then the result will be a tuple of arrays.\n"
      ]
     },
     "metadata": {},
     "output_type": "display_data"
    }
   ],
   "source": []
  },
  {
   "cell_type": "code",
   "execution_count": null,
   "id": "quarterly-burning",
   "metadata": {},
   "outputs": [],
   "source": []
  },
  {
   "cell_type": "code",
   "execution_count": null,
   "id": "placed-catalyst",
   "metadata": {},
   "outputs": [],
   "source": []
  }
 ],
 "metadata": {
  "kernelspec": {
   "display_name": "Python 3",
   "language": "python",
   "name": "python3"
  },
  "language_info": {
   "codemirror_mode": {
    "name": "ipython",
    "version": 3
   },
   "file_extension": ".py",
   "mimetype": "text/x-python",
   "name": "python",
   "nbconvert_exporter": "python",
   "pygments_lexer": "ipython3",
   "version": "3.8.5"
  }
 },
 "nbformat": 4,
 "nbformat_minor": 5
}

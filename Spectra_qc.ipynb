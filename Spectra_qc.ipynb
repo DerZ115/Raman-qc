{
 "cells": [
  {
   "cell_type": "code",
   "execution_count": 146,
   "id": "established-former",
   "metadata": {},
   "outputs": [],
   "source": [
    "import os\n",
    "import pywt\n",
    "import math\n",
    "import numpy as np\n",
    "import scipy.signal as sig\n",
    "import matplotlib.pyplot as plt\n",
    "import matplotlib.colors as colors\n",
    "from matplotlib import cm\n",
    "from scipy.stats import norm"
   ]
  },
  {
   "cell_type": "code",
   "execution_count": 230,
   "id": "consolidated-australia",
   "metadata": {},
   "outputs": [],
   "source": [
    "# files = os.listdir(\"spectra\")\n",
    "\n",
    "# for filename in files:\n",
    "#     np.genfromtxt(filename, delimiter=\",\")\n",
    "\n",
    "limit_low = None\n",
    "limit_high = None\n",
    "\n",
    "spectrum = np.genfromtxt(\"spectra/E (2).TXT\", delimiter=\",\")\n",
    "spectrum = np.transpose(spectrum)\n",
    "wavenumbers = spectrum[0]\n",
    "intensities = spectrum[1]\n",
    "\n",
    "if limit_low is not None:\n",
    "    limit_low_index = list(wavenumbers).index(limit_low)\n",
    "else:\n",
    "    limit_low_index = 0\n",
    "    limit_low = wavenumbers[0]\n",
    "\n",
    "if limit_high is not None:\n",
    "    limit_high_index = list(wavenumbers).index(limit_high)\n",
    "else:\n",
    "    limit_high_index = len(wavenumbers)\n",
    "    limit_high = wavenumbers[-1]\n",
    "\n",
    "wavenumbers = wavenumbers[limit_low_index:limit_high_index]\n",
    "intensities = intensities[limit_low_index:limit_high_index]"
   ]
  },
  {
   "cell_type": "code",
   "execution_count": 231,
   "id": "actual-people",
   "metadata": {},
   "outputs": [],
   "source": [
    "intensities_sg = sig.savgol_filter(intensities, \n",
    "                                   window_length=3, \n",
    "                                   polyorder=0, \n",
    "                                   deriv=0)"
   ]
  },
  {
   "cell_type": "code",
   "execution_count": 232,
   "id": "exclusive-diabetes",
   "metadata": {},
   "outputs": [
    {
     "name": "stdout",
     "output_type": "stream",
     "text": [
      "Using matplotlib backend: Qt5Agg\n"
     ]
    }
   ],
   "source": [
    "%matplotlib\n",
    "fig, ax = plt.subplots()\n",
    "ax.plot(wavenumbers, intensities_sg, linewidth = 1, color = \"red\")\n",
    "ax.set_xlim(limit_low, limit_high)\n",
    "ax.invert_xaxis()\n",
    "ax.grid()"
   ]
  },
  {
   "cell_type": "code",
   "execution_count": 233,
   "id": "spatial-interstate",
   "metadata": {},
   "outputs": [],
   "source": [
    "intensities_ext = np.concatenate((np.full(400, intensities_sg[0]), intensities_sg, np.full(400, intensities_sg[-1])))\n",
    "scales = np.linspace(1,200, 200)\n",
    "\n",
    "coefs, freqs = pywt.cwt(data=intensities_ext, scales=scales, wavelet=\"mexh\")\n",
    "\n",
    "coefs = coefs[:,400:-400]"
   ]
  },
  {
   "cell_type": "code",
   "execution_count": 234,
   "id": "express-member",
   "metadata": {},
   "outputs": [],
   "source": [
    "wavenumbers_grid, scales_grid = np.meshgrid(wavenumbers, scales)"
   ]
  },
  {
   "cell_type": "code",
   "execution_count": 235,
   "id": "announced-collapse",
   "metadata": {},
   "outputs": [
    {
     "name": "stdout",
     "output_type": "stream",
     "text": [
      "Using matplotlib backend: Qt5Agg\n"
     ]
    }
   ],
   "source": [
    "%matplotlib\n",
    "fig, [ax1, ax2] = plt.subplots(2,1)\n",
    "sp = ax1.plot(wavenumbers, intensities_sg, linewidth=1, color=\"red\")\n",
    "ax1.set_xlim(limit_low, limit_high)\n",
    "ax1.invert_xaxis()\n",
    "ax1.grid()\n",
    "\n",
    "cmap = cm.seismic\n",
    "normal = colors.Normalize(vmin=-np.max(np.abs(coefs)), vmax=np.max(np.abs(coefs)))\n",
    "\n",
    "cp = ax2.contourf(wavenumbers_grid, scales_grid, coefs, cmap=cmap, norm=normal, levels=200, extend=\"both\")\n",
    "cbar = fig.colorbar(cp, orientation=\"horizontal\")\n",
    "ax2.invert_xaxis()"
   ]
  },
  {
   "cell_type": "code",
   "execution_count": 236,
   "id": "burning-preliminary",
   "metadata": {},
   "outputs": [],
   "source": [
    "coefs_sum_by_scale = abs(coefs).sum(axis=1, keepdims=True)\n",
    "p_coefs = abs(coefs) / coefs_sum_by_scale\n",
    "\n",
    "shannon_H = -np.sum(p_coefs * np.log(p_coefs), axis=1)"
   ]
  },
  {
   "cell_type": "code",
   "execution_count": 237,
   "id": "other-gibson",
   "metadata": {},
   "outputs": [
    {
     "data": {
      "text/plain": [
       "[<matplotlib.lines.Line2D at 0x29abdefa4c0>]"
      ]
     },
     "execution_count": 237,
     "metadata": {},
     "output_type": "execute_result"
    }
   ],
   "source": [
    "plt.plot(scales, shannon_H)"
   ]
  },
  {
   "cell_type": "code",
   "execution_count": 238,
   "id": "provincial-donna",
   "metadata": {},
   "outputs": [],
   "source": [
    "mins = np.array(sig.argrelextrema(shannon_H, np.less))\n",
    "scale_choice = scales[mins[0,0]]"
   ]
  },
  {
   "cell_type": "code",
   "execution_count": 239,
   "id": "blank-system",
   "metadata": {},
   "outputs": [],
   "source": [
    "intensities_ext = np.concatenate((np.full(400, intensities_sg[0]), intensities_sg, np.full(400, intensities_sg[-1])))\n",
    "coefs, freqs = pywt.cwt(data=intensities_ext, scales=scale_choice, wavelet=\"mexh\")\n",
    "coefs = coefs[0,400:-400]"
   ]
  },
  {
   "cell_type": "code",
   "execution_count": 245,
   "id": "recognized-pacific",
   "metadata": {},
   "outputs": [
    {
     "name": "stdout",
     "output_type": "stream",
     "text": [
      "Using matplotlib backend: Qt5Agg\n"
     ]
    }
   ],
   "source": [
    "%matplotlib\n",
    "fig, ax= plt.subplots()\n",
    "\n",
    "ax.plot(wavenumbers, intensities_sg, linewidth = 0.5, color = \"red\")\n",
    "ax.set_xlim(limit_low, limit_high)\n",
    "ax.invert_xaxis()\n",
    "\n",
    "ax.plot(wavenumbers, coefs, linewidth = 0.5, color = \"blue\")\n",
    "ax.set_xlim(limit_low, limit_high)\n",
    "ax.invert_xaxis()\n",
    "ax.grid()"
   ]
  },
  {
   "cell_type": "code",
   "execution_count": 246,
   "id": "brazilian-liberty",
   "metadata": {},
   "outputs": [],
   "source": [
    "def iterative_gaussian_fit(data, n_bins=200, diff=0.05):\n",
    "    data_range = np.max(data) - np.min(data)\n",
    "    n_change_prev = 0\n",
    "    \n",
    "    while True:\n",
    "        # Calculate histogram\n",
    "        hist, bins = np.histogram(data, n_bins)\n",
    "        \n",
    "        # Find bins with density more than 1/3 of max density\n",
    "        max_bins_indices = np.where(hist > max(hist)/3)\n",
    "        max_bins_low = max_bins_indices[0][0]\n",
    "        max_bins_high = max_bins_indices[0][-1]\n",
    "        max_data_low = bins[max_bins_low]\n",
    "        max_data_high = bins[max_bins_high+1]\n",
    "        \n",
    "        # Reduce data to selected bins and calculate mean and standard deviation\n",
    "        data_reduced = data[data > max_data_low]\n",
    "        data_reduced = data_reduced[data_reduced < max_data_high]\n",
    "        mu, sigma = norm.fit(data_reduced, floc=0)\n",
    "        \n",
    "        #Calculate new number of bins nad compare difference\n",
    "        n_bins_prev = n_bins\n",
    "        n_bins = math.ceil(8 * data_range / sigma)\n",
    "        n_change = (n_bins/n_bins_prev)-1\n",
    "        print(\"Change:\", round(n_change*100, 1), \"%\")\n",
    "        if abs(n_change) <= diff or n_change*n_change_prev < 0:\n",
    "            return sigma\n",
    "        n_change_prev = n_change\n",
    "        "
   ]
  },
  {
   "cell_type": "code",
   "execution_count": 248,
   "id": "numerical-hybrid",
   "metadata": {},
   "outputs": [
    {
     "name": "stdout",
     "output_type": "stream",
     "text": [
      "Change: 6097.5 %\n",
      "Change: 541.4 %\n",
      "Change: 8.4 %\n",
      "Change: -2.4 %\n"
     ]
    },
    {
     "data": {
      "text/plain": [
       "44.71061574125781"
      ]
     },
     "execution_count": 248,
     "metadata": {},
     "output_type": "execute_result"
    }
   ],
   "source": [
    "iterative_gaussian_fit(coefs)"
   ]
  },
  {
   "cell_type": "code",
   "execution_count": null,
   "id": "recreational-electricity",
   "metadata": {},
   "outputs": [],
   "source": []
  },
  {
   "cell_type": "code",
   "execution_count": null,
   "id": "regulated-cherry",
   "metadata": {},
   "outputs": [],
   "source": []
  }
 ],
 "metadata": {
  "kernelspec": {
   "display_name": "Python 3",
   "language": "python",
   "name": "python3"
  },
  "language_info": {
   "codemirror_mode": {
    "name": "ipython",
    "version": 3
   },
   "file_extension": ".py",
   "mimetype": "text/x-python",
   "name": "python",
   "nbconvert_exporter": "python",
   "pygments_lexer": "ipython3",
   "version": "3.8.5"
  }
 },
 "nbformat": 4,
 "nbformat_minor": 5
}

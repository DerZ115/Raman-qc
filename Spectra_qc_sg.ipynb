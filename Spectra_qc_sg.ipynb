{
 "cells": [
  {
   "cell_type": "code",
   "execution_count": 50,
   "id": "regulation-laser",
   "metadata": {},
   "outputs": [],
   "source": [
    "import os\n",
    "import pywt\n",
    "import math\n",
    "import numpy as np\n",
    "import scipy.signal as sig\n",
    "import matplotlib.pyplot as plt\n",
    "import matplotlib.colors as colors\n",
    "import matplotlib.ticker as ticker\n",
    "from matplotlib import cm\n",
    "from scipy import stats\n",
    "import numpy.polynomial.polynomial as poly"
   ]
  },
  {
   "cell_type": "code",
   "execution_count": 4,
   "id": "alive-aberdeen",
   "metadata": {},
   "outputs": [],
   "source": [
    "def import_file(path, limit_low=None, limit_high=None):\n",
    "\n",
    "    spectrum = np.genfromtxt(path, delimiter=\",\")\n",
    "    spectrum = np.transpose(spectrum)\n",
    "    wavenumbers = spectrum[0]\n",
    "    intensities = spectrum[1]\n",
    "\n",
    "    if limit_low is not None:\n",
    "        limit_low_index = list(wavenumbers).index(limit_low)\n",
    "    else:\n",
    "        limit_low_index = 0\n",
    "        limit_low = wavenumbers[0]\n",
    "\n",
    "    if limit_high is not None:\n",
    "        limit_high_index = list(wavenumbers).index(limit_high)\n",
    "    else:\n",
    "        limit_high_index = len(wavenumbers)\n",
    "        limit_high = wavenumbers[-1]\n",
    "\n",
    "    wavenumbers = wavenumbers[limit_low_index:limit_high_index]\n",
    "    intensities = intensities[limit_low_index:limit_high_index]\n",
    "    return wavenumbers, intensities\n",
    "\n",
    "def import_directory(path, limit_low=None, limit_high=None):\n",
    "    # files = os.listdir(path)\n",
    "\n",
    "    # for filename in files:\n",
    "    #     np.genfromtxt(filename, delimiter=\",\")\n",
    "    pass"
   ]
  },
  {
   "cell_type": "code",
   "execution_count": 5,
   "id": "agreed-worth",
   "metadata": {},
   "outputs": [],
   "source": [
    "wavenumbers, intensities = import_file(\"spectra/E (1).TXT\", 300, 1600)"
   ]
  },
  {
   "cell_type": "code",
   "execution_count": 57,
   "id": "activated-european",
   "metadata": {},
   "outputs": [],
   "source": [
    "intensities_sg1 = sig.savgol_filter(intensities, \n",
    "                                    window_length=25, \n",
    "                                    polyorder=3, \n",
    "                                    deriv=1)"
   ]
  },
  {
   "cell_type": "code",
   "execution_count": 58,
   "id": "overhead-tender",
   "metadata": {},
   "outputs": [],
   "source": [
    "intensities_sg2 = sig.savgol_filter(intensities, \n",
    "                                    window_length=25, \n",
    "                                    polyorder=3, \n",
    "                                    deriv=2)"
   ]
  },
  {
   "cell_type": "code",
   "execution_count": 59,
   "id": "written-champion",
   "metadata": {},
   "outputs": [],
   "source": [
    "intensities_sg3 = sig.savgol_filter(intensities, \n",
    "                                    window_length=25, \n",
    "                                    polyorder=3, \n",
    "                                    deriv=3)"
   ]
  },
  {
   "cell_type": "code",
   "execution_count": 64,
   "id": "american-truth",
   "metadata": {},
   "outputs": [],
   "source": [
    "zeros_sg1 = np.diff(np.sign(intensities_sg1))\n",
    "mins = np.where(zeros_sg1 > 0)[0]"
   ]
  },
  {
   "cell_type": "code",
   "execution_count": 61,
   "id": "scheduled-times",
   "metadata": {},
   "outputs": [],
   "source": [
    "zeros_sg3 = np.diff(np.sign(intensities_sg3))"
   ]
  },
  {
   "cell_type": "code",
   "execution_count": 62,
   "id": "smoking-chicago",
   "metadata": {},
   "outputs": [],
   "source": [
    "peaks = np.where(zeros_sg3 > 0)[0]\n",
    "peaks = peaks[intensities_sg2[peaks] < -threshold]"
   ]
  },
  {
   "cell_type": "code",
   "execution_count": 63,
   "id": "caroline-bulletin",
   "metadata": {},
   "outputs": [
    {
     "name": "stdout",
     "output_type": "stream",
     "text": [
      "36\n"
     ]
    }
   ],
   "source": [
    "peak_condensing = []\n",
    "peaks_new = []\n",
    "for i in range(len(wavenumbers)-1):\n",
    "    if i in peaks:\n",
    "        peak_condensing.append(i)\n",
    "    if intensities_sg2[i] > 0 and len(peak_condensing) > 0:\n",
    "        peaks_new.append(int(np.mean(peak_condensing)))\n",
    "        peak_condensing = []\n",
    "if len(peak_condensing) > 0:\n",
    "    peaks_new.append(int(np.mean(peak_condensing)))\n",
    "peaks_new = np.asarray(peaks_new)            \n",
    "print(len(peaks_new))"
   ]
  },
  {
   "cell_type": "code",
   "execution_count": 65,
   "id": "regulated-lighter",
   "metadata": {},
   "outputs": [],
   "source": [
    "def plot_raw_spectra(wavenumbers, intensities0, intensities1, intensities2, intensities3):\n",
    "    fig, ax = plt.subplots(2,2)\n",
    "    ax[0,0].plot(wavenumbers, intensities0, linewidth = 1)\n",
    "    ax[0,1].plot(wavenumbers, intensities1, linewidth = 1)\n",
    "    ax[1,0].plot(wavenumbers, intensities2, linewidth = 1)\n",
    "    ax[1,1].plot(wavenumbers, intensities3, linewidth = 1)\n",
    "    major_ticks = ticker.MultipleLocator(100)\n",
    "    minor_ticks = ticker.MultipleLocator(20)\n",
    "    for i, plot in np.ndenumerate(ax):\n",
    "        print(i)\n",
    "        ax[i].set_xlim(wavenumbers[0], wavenumbers[-1])\n",
    "        ax[i].invert_xaxis()\n",
    "        ax[i].xaxis.set_major_locator(major_ticks)\n",
    "        ax[i].xaxis.set_minor_locator(minor_ticks)\n",
    "        ax[i].grid()\n",
    "        if i != 0:\n",
    "            ax[i].hlines(0, wavenumbers[0], wavenumbers[-1], linewidth=1, color=\"black\")\n",
    "    #ax[0,0].vlines(wavenumbers[peaks_new], 0, np.max(intensities)*1.1, linewidth=0.7, color=\"black\")\n",
    "    ax[0,0].vlines(wavenumbers[mins], 0, np.max(intensities)*1.1, linewidth=0.7, color=\"black\")\n",
    "    ax[0,0].set_ylim(np.min(intensities)*0.9, np.max(intensities)*1.1)"
   ]
  },
  {
   "cell_type": "code",
   "execution_count": 66,
   "id": "plastic-bennett",
   "metadata": {},
   "outputs": [
    {
     "name": "stdout",
     "output_type": "stream",
     "text": [
      "Using matplotlib backend: Qt5Agg\n",
      "(0, 0)\n",
      "(0, 1)\n",
      "(1, 0)\n",
      "(1, 1)\n"
     ]
    }
   ],
   "source": [
    "%matplotlib\n",
    "plot_raw_spectra(wavenumbers, intensities, intensities_sg1, intensities_sg2, intensities_sg3)"
   ]
  },
  {
   "cell_type": "code",
   "execution_count": 51,
   "id": "unlimited-albuquerque",
   "metadata": {},
   "outputs": [
    {
     "data": {
      "text/plain": [
       "\u001b[1;31mSignature:\u001b[0m \u001b[0mplt\u001b[0m\u001b[1;33m.\u001b[0m\u001b[0mxticks\u001b[0m\u001b[1;33m(\u001b[0m\u001b[0mticks\u001b[0m\u001b[1;33m=\u001b[0m\u001b[1;32mNone\u001b[0m\u001b[1;33m,\u001b[0m \u001b[0mlabels\u001b[0m\u001b[1;33m=\u001b[0m\u001b[1;32mNone\u001b[0m\u001b[1;33m,\u001b[0m \u001b[1;33m**\u001b[0m\u001b[0mkwargs\u001b[0m\u001b[1;33m)\u001b[0m\u001b[1;33m\u001b[0m\u001b[1;33m\u001b[0m\u001b[0m\n",
       "\u001b[1;31mDocstring:\u001b[0m\n",
       "Get or set the current tick locations and labels of the x-axis.\n",
       "\n",
       "Pass no arguments to return the current values without modifying them.\n",
       "\n",
       "Parameters\n",
       "----------\n",
       "ticks : array-like, optional\n",
       "    The list of xtick locations.  Passing an empty list removes all xticks.\n",
       "labels : array-like, optional\n",
       "    The labels to place at the given *ticks* locations.  This argument can\n",
       "    only be passed if *ticks* is passed as well.\n",
       "**kwargs\n",
       "    `.Text` properties can be used to control the appearance of the labels.\n",
       "\n",
       "Returns\n",
       "-------\n",
       "locs\n",
       "    The list of xtick locations.\n",
       "labels\n",
       "    The list of xlabel `.Text` objects.\n",
       "\n",
       "Notes\n",
       "-----\n",
       "Calling this function with no arguments (e.g. ``xticks()``) is the pyplot\n",
       "equivalent of calling `~.Axes.get_xticks` and `~.Axes.get_xticklabels` on\n",
       "the current axes.\n",
       "Calling this function with arguments is the pyplot equivalent of calling\n",
       "`~.Axes.set_xticks` and `~.Axes.set_xticklabels` on the current axes.\n",
       "\n",
       "Examples\n",
       "--------\n",
       ">>> locs, labels = xticks()  # Get the current locations and labels.\n",
       ">>> xticks(np.arange(0, 1, step=0.2))  # Set label locations.\n",
       ">>> xticks(np.arange(3), ['Tom', 'Dick', 'Sue'])  # Set text labels.\n",
       ">>> xticks([0, 1, 2], ['January', 'February', 'March'],\n",
       "...        rotation=20)  # Set text labels and properties.\n",
       ">>> xticks([])  # Disable xticks.\n",
       "\u001b[1;31mFile:\u001b[0m      c:\\users\\daniel\\.conda\\envs\\raman\\lib\\site-packages\\matplotlib\\pyplot.py\n",
       "\u001b[1;31mType:\u001b[0m      function\n"
      ]
     },
     "metadata": {},
     "output_type": "display_data"
    }
   ],
   "source": [
    "?plt.xticks"
   ]
  },
  {
   "cell_type": "code",
   "execution_count": null,
   "id": "continuous-assembly",
   "metadata": {},
   "outputs": [],
   "source": []
  }
 ],
 "metadata": {
  "kernelspec": {
   "display_name": "Python 3",
   "language": "python",
   "name": "python3"
  },
  "language_info": {
   "codemirror_mode": {
    "name": "ipython",
    "version": 3
   },
   "file_extension": ".py",
   "mimetype": "text/x-python",
   "name": "python",
   "nbconvert_exporter": "python",
   "pygments_lexer": "ipython3",
   "version": "3.8.5"
  }
 },
 "nbformat": 4,
 "nbformat_minor": 5
}

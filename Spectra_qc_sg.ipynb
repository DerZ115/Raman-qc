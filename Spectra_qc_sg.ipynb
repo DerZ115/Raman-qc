{
 "cells": [
  {
   "cell_type": "code",
   "execution_count": 38,
   "id": "continued-defensive",
   "metadata": {},
   "outputs": [],
   "source": [
    "import os\n",
    "import pywt\n",
    "import math\n",
    "import numpy as np\n",
    "import scipy.signal as sig\n",
    "import matplotlib.pyplot as plt\n",
    "import matplotlib.colors as colors\n",
    "from matplotlib import cm\n",
    "from scipy.stats import norm\n",
    "import numpy.polynomial.polynomial as poly"
   ]
  },
  {
   "cell_type": "code",
   "execution_count": 39,
   "id": "balanced-rendering",
   "metadata": {},
   "outputs": [],
   "source": [
    "def import_file(path, limit_low=None, limit_high=None):\n",
    "\n",
    "    spectrum = np.genfromtxt(path, delimiter=\",\")\n",
    "    spectrum = np.transpose(spectrum)\n",
    "    wavenumbers = spectrum[0]\n",
    "    intensities = spectrum[1]\n",
    "\n",
    "    if limit_low is not None:\n",
    "        limit_low_index = list(wavenumbers).index(limit_low)\n",
    "    else:\n",
    "        limit_low_index = 0\n",
    "        limit_low = wavenumbers[0]\n",
    "\n",
    "    if limit_high is not None:\n",
    "        limit_high_index = list(wavenumbers).index(limit_high)\n",
    "    else:\n",
    "        limit_high_index = len(wavenumbers)\n",
    "        limit_high = wavenumbers[-1]\n",
    "\n",
    "    wavenumbers = wavenumbers[limit_low_index:limit_high_index]\n",
    "    intensities = intensities[limit_low_index:limit_high_index]\n",
    "    return wavenumbers, intensities\n",
    "\n",
    "def import_directory(path, limit_low=None, limit_high=None):\n",
    "    # files = os.listdir(path)\n",
    "\n",
    "    # for filename in files:\n",
    "    #     np.genfromtxt(filename, delimiter=\",\")\n",
    "    pass"
   ]
  },
  {
   "cell_type": "code",
   "execution_count": 40,
   "id": "photographic-combine",
   "metadata": {},
   "outputs": [],
   "source": [
    "wavenumbers, intensities = import_file(\"spectra/E (1).TXT\", 300, 1600)"
   ]
  },
  {
   "cell_type": "code",
   "execution_count": 45,
   "id": "bacterial-scholarship",
   "metadata": {},
   "outputs": [],
   "source": [
    "intensities_sg2 = sig.savgol_filter(intensities, \n",
    "                                    window_length=25, \n",
    "                                    polyorder=3, \n",
    "                                    deriv=2)"
   ]
  },
  {
   "cell_type": "code",
   "execution_count": 46,
   "id": "affiliated-comedy",
   "metadata": {},
   "outputs": [],
   "source": [
    "intensities_sg3 = sig.savgol_filter(intensities, \n",
    "                                    window_length=25, \n",
    "                                    polyorder=3, \n",
    "                                    deriv=3)"
   ]
  },
  {
   "cell_type": "code",
   "execution_count": 52,
   "id": "numerical-arkansas",
   "metadata": {},
   "outputs": [],
   "source": [
    "zeros = np.diff(np.sign(intensities_sg3))"
   ]
  },
  {
   "cell_type": "code",
   "execution_count": 119,
   "id": "bright-wichita",
   "metadata": {},
   "outputs": [],
   "source": [
    "peaks = np.where(zeros > 0)[0]\n",
    "peaks = peaks[intensities_sg2[peaks] < -1]"
   ]
  },
  {
   "cell_type": "code",
   "execution_count": 136,
   "id": "obvious-finish",
   "metadata": {},
   "outputs": [
    {
     "data": {
      "text/plain": [
       "array([  45,  158,  437,  542,  717,  848,  887, 1046, 1097, 1144, 1213,\n",
       "       1316, 1403, 1503, 1591, 1669, 1815, 1887, 2039, 2146, 2248, 2289,\n",
       "       2488, 2556])"
      ]
     },
     "execution_count": 136,
     "metadata": {},
     "output_type": "execute_result"
    }
   ],
   "source": [
    "peak_condensing = []\n",
    "peaks_new = []\n",
    "for i in range(len(wavenumbers)-1):\n",
    "    if i in peaks:\n",
    "        peak_condensing.append(i)\n",
    "    if intensities_sg2[i] > 0 and len(peak_condensing) > 0:\n",
    "        peaks_new.append(int(np.mean(peak_condensing)))\n",
    "        peak_condensing = []\n",
    "if len(peak_condensing) > 0:\n",
    "    peaks_new.append(int(np.mean(peak_condensing)))\n",
    "peaks_new = np.asarray(peaks_new)            \n",
    "peaks_new"
   ]
  },
  {
   "cell_type": "code",
   "execution_count": 137,
   "id": "statistical-dance",
   "metadata": {},
   "outputs": [],
   "source": [
    "def plot_raw_spectra(wavenumbers, intensities1, intensities2, intensities3):\n",
    "    fig, ax = plt.subplots(3,1)\n",
    "    ax[0].plot(wavenumbers, intensities1, linewidth = 1)\n",
    "    ax[1].plot(wavenumbers, intensities2, linewidth = 1)\n",
    "    ax[2].plot(wavenumbers, intensities3, linewidth = 1)\n",
    "    for i in range(len(ax)):\n",
    "        ax[i].set_xlim(wavenumbers[0], wavenumbers[-1])\n",
    "        ax[i].invert_xaxis()\n",
    "        ax[i].grid()\n",
    "        if i != 0:\n",
    "            ax[i].hlines(0, wavenumbers[0], wavenumbers[-1], linewidth=1, color=\"black\")\n",
    "    ax[0].vlines(wavenumbers[peaks_new], 0, np.max(intensities)*1.1, linewidth=0.7, color=\"black\")\n",
    "    ax[0].set_ylim(np.min(intensities)*0.9, np.max(intensities)*1.1)"
   ]
  },
  {
   "cell_type": "code",
   "execution_count": 138,
   "id": "identical-furniture",
   "metadata": {},
   "outputs": [
    {
     "name": "stdout",
     "output_type": "stream",
     "text": [
      "Using matplotlib backend: Qt5Agg\n"
     ]
    }
   ],
   "source": [
    "%matplotlib\n",
    "plot_raw_spectra(wavenumbers, intensities, intensities_sg2, intensities_sg3)"
   ]
  },
  {
   "cell_type": "code",
   "execution_count": null,
   "id": "violent-activation",
   "metadata": {},
   "outputs": [],
   "source": []
  }
 ],
 "metadata": {
  "kernelspec": {
   "display_name": "Python 3",
   "language": "python",
   "name": "python3"
  },
  "language_info": {
   "codemirror_mode": {
    "name": "ipython",
    "version": 3
   },
   "file_extension": ".py",
   "mimetype": "text/x-python",
   "name": "python",
   "nbconvert_exporter": "python",
   "pygments_lexer": "ipython3",
   "version": "3.8.5"
  }
 },
 "nbformat": 4,
 "nbformat_minor": 5
}
